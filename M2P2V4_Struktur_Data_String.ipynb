{
  "nbformat": 4,
  "nbformat_minor": 0,
  "metadata": {
    "colab": {
      "name": "M2P2V4_Struktur_Data_String",
      "provenance": []
    },
    "kernelspec": {
      "name": "python3",
      "display_name": "Python 3"
    },
    "language_info": {
      "name": "python"
    }
  },
  "cells": [
    {
      "cell_type": "markdown",
      "metadata": {
        "id": "YAFSZALiasSt"
      },
      "source": [
        "# String"
      ]
    },
    {
      "cell_type": "markdown",
      "metadata": {
        "id": "DPkTlc6aatx6"
      },
      "source": [
        "String dideklarasikan dengan diapit oleh tanda petik."
      ]
    },
    {
      "cell_type": "code",
      "metadata": {
        "colab": {
          "base_uri": "https://localhost:8080/"
        },
        "id": "zwcqxxt1a060",
        "outputId": "9d837572-2aa1-4337-9300-4670f5e5e933"
      },
      "source": [
        "# Menampilkan string dengan fungsi print()\n",
        "print(\"Hello World!\")"
      ],
      "execution_count": 1,
      "outputs": [
        {
          "output_type": "stream",
          "name": "stdout",
          "text": [
            "Hello World!\n"
          ]
        }
      ]
    },
    {
      "cell_type": "code",
      "metadata": {
        "colab": {
          "base_uri": "https://localhost:8080/"
        },
        "id": "wIiOdartbmOd",
        "outputId": "9f45b26f-2189-42e8-baab-5cbd11372078"
      },
      "source": [
        "# Membuat variabel bertipe string\n",
        "A = \"Belajar struktur data string\"\n",
        "print(A)"
      ],
      "execution_count": 2,
      "outputs": [
        {
          "output_type": "stream",
          "name": "stdout",
          "text": [
            "Belajar struktur data string\n"
          ]
        }
      ]
    },
    {
      "cell_type": "code",
      "metadata": {
        "colab": {
          "base_uri": "https://localhost:8080/"
        },
        "id": "8F2o7R90btxO",
        "outputId": "a9333a46-bd88-4335-eb0d-efeee1fceec4"
      },
      "source": [
        "# Membuat variabel string multi-line dengan 3 tanda petik\n",
        "B = \"\"\"Belajar Python\n",
        "Pejuang data 3.0\n",
        "PSDS\n",
        "String\"\"\"\n",
        "print(B)"
      ],
      "execution_count": 3,
      "outputs": [
        {
          "output_type": "stream",
          "name": "stdout",
          "text": [
            "Belajar Python\n",
            "Pejuang data 3.0\n",
            "PSDS\n",
            "String\n"
          ]
        }
      ]
    },
    {
      "cell_type": "code",
      "metadata": {
        "colab": {
          "base_uri": "https://localhost:8080/"
        },
        "id": "-kMJxKwIb7Os",
        "outputId": "1a7953e3-3247-4816-bf91-7ea069071c00"
      },
      "source": [
        "# Menampilkan karakter tertentu dalam string\n",
        "print(A[2])"
      ],
      "execution_count": 4,
      "outputs": [
        {
          "output_type": "stream",
          "name": "stdout",
          "text": [
            "l\n"
          ]
        }
      ]
    },
    {
      "cell_type": "code",
      "metadata": {
        "colab": {
          "base_uri": "https://localhost:8080/"
        },
        "id": "3B_gH-dlcjLa",
        "outputId": "28afcfe7-cdc9-4bf5-8333-8e6fc4a8fa98"
      },
      "source": [
        "# Slicing pada String\n",
        "A = \"Belajar STruktur data String\"\n",
        "print(A[:5])\n",
        "print(A[3:])\n",
        "print(A[-5:])\n",
        "print(A[4:9])"
      ],
      "execution_count": 5,
      "outputs": [
        {
          "output_type": "stream",
          "name": "stdout",
          "text": [
            "Belaj\n",
            "ajar STruktur data String\n",
            "tring\n",
            "jar S\n"
          ]
        }
      ]
    },
    {
      "cell_type": "markdown",
      "metadata": {
        "id": "hc5F5GFVdE0O"
      },
      "source": [
        "## Latihan 1"
      ]
    },
    {
      "cell_type": "code",
      "metadata": {
        "id": "rQFP7utddGi8",
        "colab": {
          "base_uri": "https://localhost:8080/"
        },
        "outputId": "7f953866-3321-4160-ea79-d84333e87633"
      },
      "source": [
        "# Buatlah variabel string lalu lakukan slicing dengan menghilangkan karakter pertama dan terakhir\n",
        "Sh = \"Hari ini, 13 Oktober 2021 SAYA berhasil menyelesaikan tugas dengan MAKSIMAL\"\n",
        "print(Sh[1:-1])"
      ],
      "execution_count": 6,
      "outputs": [
        {
          "output_type": "stream",
          "name": "stdout",
          "text": [
            "ari ini, 13 Oktober 2021 SAYA berhasil menyelesaikan tugas dengan MAKSIMA\n"
          ]
        }
      ]
    },
    {
      "cell_type": "markdown",
      "metadata": {
        "id": "6wH4t4-jdPJw"
      },
      "source": [
        "## Modifikasi String"
      ]
    },
    {
      "cell_type": "code",
      "metadata": {
        "colab": {
          "base_uri": "https://localhost:8080/",
          "height": 35
        },
        "id": "ieXeY4G1dR-B",
        "outputId": "86b2cab3-d189-4928-a285-c2404be7cd26"
      },
      "source": [
        "# upper()\n",
        "A.upper()"
      ],
      "execution_count": 7,
      "outputs": [
        {
          "output_type": "execute_result",
          "data": {
            "application/vnd.google.colaboratory.intrinsic+json": {
              "type": "string"
            },
            "text/plain": [
              "'BELAJAR STRUKTUR DATA STRING'"
            ]
          },
          "metadata": {},
          "execution_count": 7
        }
      ]
    },
    {
      "cell_type": "code",
      "metadata": {
        "colab": {
          "base_uri": "https://localhost:8080/",
          "height": 35
        },
        "id": "2NUz_tlldWcT",
        "outputId": "02cd316e-7ba2-445d-db1d-34a90995e441"
      },
      "source": [
        "# lower()\n",
        "A.lower()"
      ],
      "execution_count": 8,
      "outputs": [
        {
          "output_type": "execute_result",
          "data": {
            "application/vnd.google.colaboratory.intrinsic+json": {
              "type": "string"
            },
            "text/plain": [
              "'belajar struktur data string'"
            ]
          },
          "metadata": {},
          "execution_count": 8
        }
      ]
    },
    {
      "cell_type": "code",
      "metadata": {
        "colab": {
          "base_uri": "https://localhost:8080/",
          "height": 35
        },
        "id": "pEhFevQldief",
        "outputId": "08e4f289-b903-43d7-ba7d-c815563dfe19"
      },
      "source": [
        "# strip()\n",
        "A.strip()"
      ],
      "execution_count": 9,
      "outputs": [
        {
          "output_type": "execute_result",
          "data": {
            "application/vnd.google.colaboratory.intrinsic+json": {
              "type": "string"
            },
            "text/plain": [
              "'Belajar STruktur data String'"
            ]
          },
          "metadata": {},
          "execution_count": 9
        }
      ]
    },
    {
      "cell_type": "code",
      "metadata": {
        "colab": {
          "base_uri": "https://localhost:8080/",
          "height": 35
        },
        "id": "vcEBdQGldlQz",
        "outputId": "1732ed4d-7d52-4f23-8a63-09edb17c41e3"
      },
      "source": [
        "# replace()\n",
        "A.replace('a','X')"
      ],
      "execution_count": 10,
      "outputs": [
        {
          "output_type": "execute_result",
          "data": {
            "application/vnd.google.colaboratory.intrinsic+json": {
              "type": "string"
            },
            "text/plain": [
              "'BelXjXr STruktur dXtX String'"
            ]
          },
          "metadata": {},
          "execution_count": 10
        }
      ]
    },
    {
      "cell_type": "code",
      "metadata": {
        "colab": {
          "base_uri": "https://localhost:8080/"
        },
        "id": "8KquX1MkdoJA",
        "outputId": "7ca18c85-b4e4-4822-a9ed-e0aa3e835c70"
      },
      "source": [
        "# split()\n",
        "A.split()"
      ],
      "execution_count": 11,
      "outputs": [
        {
          "output_type": "execute_result",
          "data": {
            "text/plain": [
              "['Belajar', 'STruktur', 'data', 'String']"
            ]
          },
          "metadata": {},
          "execution_count": 11
        }
      ]
    },
    {
      "cell_type": "markdown",
      "metadata": {
        "id": "NFWgwmN-drJ5"
      },
      "source": [
        "## Menggabungkan String"
      ]
    },
    {
      "cell_type": "code",
      "metadata": {
        "colab": {
          "base_uri": "https://localhost:8080/",
          "height": 35
        },
        "id": "w9BrNCTedvFy",
        "outputId": "bf32e39d-f5f4-4a81-9788-7d2f55144b24"
      },
      "source": [
        "A = \"Belajar STruktur data string\"\n",
        "B = \"Pejuang Data 3.0\"\n",
        "A +\"\"+B"
      ],
      "execution_count": 12,
      "outputs": [
        {
          "output_type": "execute_result",
          "data": {
            "application/vnd.google.colaboratory.intrinsic+json": {
              "type": "string"
            },
            "text/plain": [
              "'Belajar STruktur data stringPejuang Data 3.0'"
            ]
          },
          "metadata": {},
          "execution_count": 12
        }
      ]
    },
    {
      "cell_type": "markdown",
      "metadata": {
        "id": "jFBZsO9Td4vH"
      },
      "source": [
        "## Latihan 2"
      ]
    },
    {
      "cell_type": "code",
      "metadata": {
        "id": "LMW8VCOGd6uE",
        "colab": {
          "base_uri": "https://localhost:8080/"
        },
        "outputId": "9d21d05b-bb70-4cbd-f217-499996f41fa2"
      },
      "source": [
        "# Ganti semua huruf vokal menjadi \"1\" pada string yang telah kalian buat pada latihan 1\n",
        "\n",
        "v1 = Sh.replace('a','1')\n",
        "v2 = v1.replace('A','1')\n",
        "v3 = v2.replace('i','1')\n",
        "v4 = v3.replace('I','1')\n",
        "v5 = v4.replace('u','1')\n",
        "v6 = v5.replace('U','1')\n",
        "v7 = v6.replace('e','1')\n",
        "v8 = v7.replace('E','1')\n",
        "v9 = v8.replace('o','1')\n",
        "v10 = v9.replace('O','1')\n",
        "print(v10)"
      ],
      "execution_count": 13,
      "outputs": [
        {
          "output_type": "stream",
          "name": "stdout",
          "text": [
            "H1r1 1n1, 13 1kt1b1r 2021 S1Y1 b1rh1s1l m1ny1l1s11k1n t1g1s d1ng1n M1KS1M1L\n"
          ]
        }
      ]
    },
    {
      "cell_type": "code",
      "metadata": {
        "colab": {
          "base_uri": "https://localhost:8080/"
        },
        "id": "8ABLbuUwHmLQ",
        "outputId": "12f29eb9-bd88-4f48-d79b-e78fc0fb4db0"
      },
      "source": [
        "char = '1'\n",
        "v = \"\"\n",
        "for i in range(len(Sh)):\n",
        "    if Sh[i]=='a' or Sh[i]=='e' or Sh[i]=='i' or Sh[i]=='o' or Sh[i]=='u'or Sh[i]=='A'or Sh[i]=='I'or Sh[i]=='U'or Sh[i]=='E'or Sh[i]=='O':\n",
        "        v = v + char\n",
        "    else:\n",
        "        v = v + Sh[i]\n",
        "print(v)"
      ],
      "execution_count": 14,
      "outputs": [
        {
          "output_type": "stream",
          "name": "stdout",
          "text": [
            "H1r1 1n1, 13 1kt1b1r 2021 S1Y1 b1rh1s1l m1ny1l1s11k1n t1g1s d1ng1n M1KS1M1L\n"
          ]
        }
      ]
    }
  ]
}