{
  "nbformat": 4,
  "nbformat_minor": 0,
  "metadata": {
    "colab": {
      "name": "M3P1V2_Perulangan_For_dan_While",
      "provenance": [],
      "authorship_tag": "ABX9TyPsD4Cg9GE0CVPbeHK8w4bJ",
      "include_colab_link": true
    },
    "kernelspec": {
      "name": "python3",
      "display_name": "Python 3"
    },
    "language_info": {
      "name": "python"
    }
  },
  "cells": [
    {
      "cell_type": "markdown",
      "metadata": {
        "id": "view-in-github",
        "colab_type": "text"
      },
      "source": [
        "<a href=\"https://colab.research.google.com/github/shintiayulitasari/PSDS_Kelas_Dasar/blob/main/M3P1V2_Perulangan_For_dan_While.ipynb\" target=\"_parent\"><img src=\"https://colab.research.google.com/assets/colab-badge.svg\" alt=\"Open In Colab\"/></a>"
      ]
    },
    {
      "cell_type": "markdown",
      "metadata": {
        "id": "dcxTeMPES9jg"
      },
      "source": [
        "# **Looping/ Perulangan**"
      ]
    },
    {
      "cell_type": "markdown",
      "metadata": {
        "id": "SLq8FxxETB4A"
      },
      "source": [
        "Python menyediakan dua statement untuk melakukan proses perulangan yaitu for dan while. Diantara kedua statement ini, secara umum for lebih banyak digunakan daripada while."
      ]
    },
    {
      "cell_type": "markdown",
      "metadata": {
        "id": "A4qu6YFPTQZG"
      },
      "source": [
        "## For Loop"
      ]
    },
    {
      "cell_type": "markdown",
      "metadata": {
        "id": "mrgiHYB3TR_S"
      },
      "source": [
        "Perulangan `for` digunakan untuk melakukan iterasi didalam sequance seperti `list`, `tuple`, `string` dan `array` atau objek yang dapat diiterasi lainnya."
      ]
    },
    {
      "cell_type": "markdown",
      "metadata": {
        "id": "_wdY7-jETjzD"
      },
      "source": [
        "**For Loop Syntax**"
      ]
    },
    {
      "cell_type": "code",
      "metadata": {
        "id": "tw8KVteMTnNg"
      },
      "source": [
        "for val in sequance:\n",
        "  loop body"
      ],
      "execution_count": null,
      "outputs": []
    },
    {
      "cell_type": "markdown",
      "metadata": {
        "id": "a3_GoeQZTsjD"
      },
      "source": [
        "**For Loop Flowchart**"
      ]
    },
    {
      "cell_type": "markdown",
      "metadata": {
        "id": "jbrepzKKUNW_"
      },
      "source": [
        "![forLoop.jpg](data:image/jpeg;base64,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)"
      ]
    },
    {
      "cell_type": "markdown",
      "metadata": {
        "id": "0G_Ub9DyUWBm"
      },
      "source": [
        "**Example: Python for Loop**"
      ]
    },
    {
      "cell_type": "code",
      "metadata": {
        "colab": {
          "base_uri": "https://localhost:8080/"
        },
        "id": "4J2UTbQKUgye",
        "outputId": "81d536fa-38f5-44da-b329-c568476f568f"
      },
      "source": [
        "# Program untuk menghitung jumlah semua angka dalam sebuah list\n",
        "L1=[2,4,5,7,9]\n",
        "jumlah=0\n",
        "\n",
        "# Iterasi di dalam list\n",
        "for i in L1:\n",
        "  jumlah=jumlah+i\n",
        "print(jumlah)"
      ],
      "execution_count": null,
      "outputs": [
        {
          "output_type": "stream",
          "name": "stdout",
          "text": [
            "27\n"
          ]
        }
      ]
    },
    {
      "cell_type": "markdown",
      "metadata": {
        "id": "RFxyZOKDU3l8"
      },
      "source": [
        "## **The range() function**"
      ]
    },
    {
      "cell_type": "code",
      "metadata": {
        "colab": {
          "base_uri": "https://localhost:8080/"
        },
        "id": "Ac-8_98EVAQP",
        "outputId": "ddcf19bf-988c-42c5-d782-767fb6ec4a95"
      },
      "source": [
        "# Program untuk melakukan iterasi di dalam list melalui indeks\n",
        "minuman=[\"teh\",\"boba\",\"kopi\",\"susu\"]\n",
        "p=len(minuman)\n",
        "\n",
        "# Iterasi di dalam list melalui indeks\n",
        "for i in range(p):\n",
        "  print(minuman[i])"
      ],
      "execution_count": null,
      "outputs": [
        {
          "output_type": "stream",
          "name": "stdout",
          "text": [
            "teh\n",
            "boba\n",
            "kopi\n",
            "susu\n"
          ]
        }
      ]
    },
    {
      "cell_type": "markdown",
      "metadata": {
        "id": "W4OpWBC1VkKY"
      },
      "source": [
        "## Latihan 1"
      ]
    },
    {
      "cell_type": "markdown",
      "metadata": {
        "id": "rx2hd77mVl7S"
      },
      "source": [
        "Diberikan `list_tagihan`. Kamu diminta untuk menghitung jumlah seluruh tagihan!. Gunakan looping `for` untuk menyelesaikan tugas ini!\n",
        "\n",
        "Simpan hasilnya pada variabel `total_tagihan`!\n",
        "```\n",
        "list_tagihan = [50000, 75000, -150000, 125000, 300000, -50000, 200000]\n",
        "```\n",
        "\n"
      ]
    },
    {
      "cell_type": "code",
      "metadata": {
        "id": "HD6yIS-TWOYY",
        "colab": {
          "base_uri": "https://localhost:8080/"
        },
        "outputId": "38582f2b-4b63-4011-bb3b-824a80a7763f"
      },
      "source": [
        "# tuliskan code kalian\n",
        "list_tagihan=[50000, 75000, -150000, 125000, 300000, -50000, 200000]\n",
        "total_tagihan=0\n",
        "for i in list_tagihan:\n",
        "  total_tagihan=total_tagihan+i\n",
        "print(total_tagihan)"
      ],
      "execution_count": 3,
      "outputs": [
        {
          "output_type": "stream",
          "name": "stdout",
          "text": [
            "550000\n"
          ]
        }
      ]
    },
    {
      "cell_type": "markdown",
      "metadata": {
        "id": "IvEq_AtLXNe5"
      },
      "source": [
        "## While Loop"
      ]
    },
    {
      "cell_type": "markdown",
      "metadata": {
        "id": "pYjM-j52XP7_"
      },
      "source": [
        "While loop pada Python digunakan untuk melakukan iterasi pada blok kode selama nilai dari `test expression` adalah `true`."
      ]
    },
    {
      "cell_type": "markdown",
      "metadata": {
        "id": "iZ3y3khBZop1"
      },
      "source": [
        "**Syntax of while Loop in Python**"
      ]
    },
    {
      "cell_type": "code",
      "metadata": {
        "id": "t5bZm6rZZt9N"
      },
      "source": [
        "while test_wxpression:\n",
        "  Body of while"
      ],
      "execution_count": null,
      "outputs": []
    },
    {
      "cell_type": "markdown",
      "metadata": {
        "id": "QA8D75xrZyv-"
      },
      "source": [
        "**While Loop Flowchart**"
      ]
    },
    {
      "cell_type": "markdown",
      "metadata": {
        "id": "wePLOn_oZ2m3"
      },
      "source": [
        "![whileLoopFlowchart.webp](data:image/webp;base64,UklGRtITAABXRUJQVlA4IMYTAADwVwCdASrfAHQBPlEmj0YjoiEhJHMqcHAKCWlu4XHOKxnZ12fsN/b+1T+1/jj6D+BfwV7A8wKJB8Z+vX3L+6fsl+Y3xT3t8AX8U/jv9q/LD++8KDsfmBenfzn/Qf2z/Cf93/N+kF+x+hf2U/wHuAfzn+if4H+tftp/V///9H/6H/HeJh5l7AH8h/pf+t/uv5LfTD/K/+H/J/5f9svah+Z/33/sf534BP5P/Sv91/cPyc7/37Zex9+vf/qJdNYB05SnNcY6RspdI2ObcQHmUyoxNtaQ3Gz5LIkaRhx+UbmM7qyuyZMWi8h3evvlQNfK87BVxxo+jgGrgiF1GVeqWC5S5/7B8UQUSNlLpGougj6YdhkU6PYoOHZS6RsbCy8UECr4YN95+YenMN47jouq3ybla4XhE33t7a4CS7RGdIKhk9dyY6sI/ltvZv52lzfpUmJeEYNpZaCjxJLzD1NAkgFz72m2iHCxWhdAAlwLAKrW8tMxz7HJMmHmCi9FEuJ0AHo6FtsjsSvjybqdVWwI+zCBxkyB8Ds2o5s8x1A/WrqJhyXw8bAigE0Tbpa8zXCUUPnwt/YdM8/RjvgIOTSrn1uR6Hz4W/sOk+Vjxoq53qn9DXg8Ab45/uWYH0n38a4d2Cb+Pdpy6u+bSEi6jRRdaEUt7T+SMIkEMr05bOd6DfNqsrlozUedGfeU1Dz8mUNJ3L7AqYas+2KLCQ5M/lg36b24uoXFhJpr/EWn1YhFD1RbOl8394WAx10bPvGOZNCzZGehTrJ0WMKda21ZZL1hSab5EjZS6Rso4nApjpCDZJ4Iiq6XFcygZ/9Cmylz/ms5Vh7HMWsj3BJRgRXs62llbjr4zraqHwVukTB3SJg7pEDE9jCSldOTTgSuznwknylvqYCE8uJogjr7D1kZ6T9QT+6uMEpxPID0KBTliX/yyy0OymuXs3ePEJI4AP77nC7rfsV6zSPMVlIAYUnTMpcpmilbAEJ9f2ZjB23YsIG5VHXb/8XBA94NY61dHKiO3XCst4MjQ1tv0eB9bsivZEtYfUaitDGMKK/xvgRzLdiIPppxpppv7XCSEv2vDE8HjmIMPDRqowbnhnIDcwzXgqmPK8EJkCTwqkcDc40e8b6tv6f3ioKk4jhyK3RY0uoFG/t6z3htw/gmcg/3e8nrR1AhcDE/9Xbbd/8pbql8qbon5xpJ56XIEo/utWmCjyU1wBk0BOnrQPxUqh/52x0LLH5Xomn+dUw9kvU6ACY8+nkkPq1vpTgH9rfh0MPWU9wInS5SNvlZJMi3uQrVYvORUlLrEW2EG0zIF6BX1wcKnVv1uoH9CPjlusgq2KOTJpM8+keG6AyyOb/8Ouh2g4v5ZptOhgX50LRUX3iAjev5wI9byf7GMmZOBxEMTG2TrOfq1r4yoxwTNL12m/xDb5SEb+yXyQJmXIWfxAbcJab5NXAoehWy37Pr87vpiTz7P/RdPFbQTdrsrRbYtHW/2JDAvDvttcv//54Y9P/Ycv4939f/7mucvPybdyedK8TJSGQtfPUkZ7cmF3nWgXBxITf6Nswhn8yNM2JnGexCyDKA0V7/W4G4AKClD2z/tAx2FcEW+ZTr5SkcmO0+yRAzHDC+9GPB6a5AHISDwZvYGScm2uVf6NNfLMk8SqBLqo3Qo8+JMS4OO2ePvpggz3NQ0tk48Tj9kp1rdVp/wf9vn55IF8d9Pzra2eJZ1wJjXOujjK3TDjLTLkqLRNqSbKlrSDsiqn8yyEAVR7tet1tuHVECLs+PaBGovdqfwIFGcdIGecPJtrPXBDNYxbW67hJmAVQs/OKIPmVEa/1VMneYwdjWgo70hCjhuVRMzh4GH8rh2o9t0eB3w2NLLcSHPpAPGf8opJ48/1CSqM1Wk5A6VGY7+3xJvyRWZC0I/ogp7y4WTyq6M3NM1QhnsVfYRbY3hfZUKUvV5sdZ4O4A/xMorWFauzhEPvIJ4O75qV82OjRjZB0mo2TEtHAATSZorUbdCsuHR3MMZ5+qHNRLY8M2xz367Fce/D/4B0pWtLsxGdqwgx+Tez3HbN2QIB5QgxHFEWJ0bAVq9RE5vz4ChHEAOO66P68a3NBX0WCq0TxvPDnzfsIoggc1++Ns/ojHuBkBzwAEIdqgt3m8NFAFK2lSJLeZlAGeejkkEJSZCAgtGQK4MfQzRxVCxhUrLwX5U2wVJwiiJgNr8ROVyCpryVkQQLcsMrLJV/P+ejRic4M7H17gBnXYrgVUvgveV4gxxp8mucO7FfbYe+GYdOOSduTZ5Zy9pR2lDHM+QvTDcjpBcA1z/ab2NEwjeOO/zGSadpHYAWhxt3M+X/lMPgU5xuzw+mxtPabr+T2pbrnZNgNrY4O7wh7wv79tQKljlgdht6xjud65CPDN0Htbf8CK4KgSc2hcSH5PZGokwqCsAMUSIF2FQ2IZySreAPYkgtPW1G/5vem/gR4JG7ORl+S/IKyhNmA3I4ZkHC2TDOkHhpYgtScy50+G2+fAgB7o/TL2Ek8RzovGwwf9idTfD3lwH90XOsrbMx+HnaVgDaly1dsNfBdy3igGnhanvMifQbJEQsSB+Q5K2gUb/96m+AwgMdXMQLU5EZQC2pW9aSCeYNNE2qJnwrThiuzD5thWuT/50/ET44ayrqC+yqIuDoJpfWJn1YRqUnuq+kprWL+qt/WgvoQHK9ZMsgsPrk1RfBUwZm6zzXytxPQJE+Ruocdwb0Fq59/TsMhtZWrU6NyESpHg9dLxJXUhw5amYEN0Gh2vy5X9LeEArYHh2GV9EY1gE2FT4L5d4zrP3AFVLIT4d2K31HdXQUwFJb75yhJ1ybVauLUgl/g+oPSa/ZEjdRo7fm74uvK8WdFfFWBEcQLw0AdIFWwQjNHWhBR93uXxlsiT4Eyp/uYwXjhzwODRGcwZ5ToE6N3/+1Fqb44QLRpUVh6sPwl+tC6sBWf+ICYsNzp8C6DuTs1EKTb7QQlfYD//h3+ZlqHTEzoZdCWL/51FPdE7qiUKRnnMA9EIm+21tQVw+h9oGP41UpNF2mVzuOb9QG3jkpX9CmFS21xmn1CwNxKE0pCKchR83cuco7Zf7G40lOsMutbl8/y70bwp5nu2oP/uZ6wm2QcYYtywtOBbsM7T0rqQIgwS/xOxiL2dljB0uaVnvyPEJf1q0YB0XX/ZkHsq/in53GIKFBe6bFk6o1eVf0vzOSb6eQWYzKGssfGf/zP16FYFMBD2unfLRCMbPPjU5OSH1zv81mPSqspC0gD8ltDucUPV2VH0iYA3eM9xPcRNOftgc3BM2ieemuxOXrunQGFL9Hw0qt+qPECDpWl3LaCqvmPjde3vIaoBiPeBvrbkHkTYxTlrmWSq/Te1E+5D2GeZkfYdWzPul6GWkiMhMu+lcm1Nfuh1Pa9zH+ohgEro0pZyqkW7APJ4Lkj7bMatu+N75XReDERKEWkuCWcdMvqe6ppGKiYNiBHtQ3Oh0YtiFre/owGgPY0TFyVvScrJtkAr3oUT6EUuBWaRaim8mpT5OuVY2/I0vXoV4xX7geOK/l5kLEfTlXH6EO9zakDvAHtOd3ecR1Su5aCxLLdx22DexSRmNO0PTgeDx6Q9OXmuSGiI/QMsVCkue9VZcxDsec41xEcDVOz9dEleAS31sv949PG01rPHskOX9WmI9W7Vc31H25XpJh3/pCW4gPkj4Nm8DuApNRjVCIea+9bgPFq0z2IMgKip66CB1VJPEJX4lsPQsq27zrULn0wGFnAZ8U3DJd5u1mi8qsta7bz/IPKqxOph30rUTVd2M/JsqhiyuLBh19FCRjBn0BQiiI2ked/dnZ9aPXyW3WZnNHXZHl+DYXYFqlX1DEDmmSU8takjEwsMjg+X1jMPhOHQT6p8ktg3/sq8/LKiPgV64+PQMdZ1QnGLhuE5oUD+MUwO67+W3/slDUW8Upfeg6zg/R6148AkH2NpAN+eXBIPNji/l0yXWRvwpnvR3w02Kop7TWD+PmbQ+Kv6t36QcbeAAmoFHGgZjvzO46F8Sg9wVSEYp11U9IPeXJTZJtZ9aMBRRxXhnG1+a/ehgCbsl/LaReUXA4/oste4iR57B7icrns4Q/y7UrANwW2KnMQQV24bizRIZwzKc5iemCE8He7p31bYADMAEBwoqvwTC3RshRGiU5aIhUF8o/bBNzDtVQxf0hrrie8a1Q9wJ4Cao1HRFup0B6aV70DDx8NynRBv5/Kf1rqzVr3/oXXQP51s8GIJRhIl8L6zdN6ytJcmfv3BwbmQlqrwcA9F7Q8mN0Fezs8WlOdhjUqpLMuHH+g1/tw3Zfbg4eMMePbt8eTQxt/A26OfcsJDady59vTueGfVINLclcN4e32YakDawEa56eO/iozrBK4wt1HA+I7xx7sVjspWILNkEn1MCipi/eb6KQAcWbSjf//1S2BgtKq36atn6h4NZOx2M2gJTpO2OBRTJuxGcNYKOB/keZZvYDFqoBMSEtCvMTneRAr2m6oDaebJJ7fKVFUABDaQCerp0MWyOYbPyWDRd79rOgyAmyJr3wosIuLPyqIbzNuMYAHxatE5oPrv5BP15VyTpyEXDyGFRq2fX6AywluZG0z88aGIXgxH4IpsLu/xqodxpBIcjnqHqK41KiITHgIHdbqMp3vLgUNuTOSijB3AeNBzEvFZ6Q764VdJB9qaddg1Jws8ojl1xqc8IQV062YArlebxheB8MoZVAnG9tY2GoURN9SBqWZopudmrbTx6YzVUx06dyngB336TzNAhjrrXaMV8Qg3SciNLe/j3V/CLIRxOgS5V9ZcvWzmIdznbf3YZFxLb4gu8qr6nuzPIhTHOAVXaVFN8Aa4fzwkkB0VaWFixtWI4oi+RJngFhP68u82AhueHTa/+UaLAvC4gA9v0iaz2RPBWgvt+xLU2GH0z6jixZItIL1tjmDrxHCYdf2+0eeiZLImUZ6JoBKCVDWAQuujnryguCWzlX71DZI2rQrhwYhwr1+o29A7jY85yb9QlZLiGIXPeQVQpIVHddl5KK7UX0g+H88HjWHM/iyJf+gJFw9tlwLgMQrg1Q6zpPI9Sj3vaWuknxXBokNyL5eG9zIoXOZ3VkigLQZlj8Oh5lz2PdjpkD/UMtcSH04tYZg2Qtt9/4LPcdblcY8ZeLqhViSzNCNxz9tBXY74koSKbtNr7CHEZjl2sJgrrgcvZjeEvVfgpTcw59fAkqTgJZo6LtvjeLR+LiyHTKCRr8uvLO71W75/sanD2kB26nEO7MvlC/Rm1abqsgaoFPcAEHRF4IccU0CaSfxatrPZts9JY/nZrtssMqzwP0+RQYydFBnpi1e0opnu+LqHB1JeRPO+b/0eLEfn3A8mvr7aoipHv99IAv9/vhbj/ZiUNuv+oAfF79TEUFz/L+ROzhqon5q+9I7QKzXIdPCQnNXy9rdeCheWL/qL5PQXqBUXZbVllxuEaUAeygADH/Bt7ixCg3OSAwkhjfjYWTWIumHOKftHpV1X6JDUvoXGGXFXJAGee37bqwrKiBXWNyGNj1mmVrVfOKpCvRT3iXzSvjYY1O5oX8u2lN1f8xGB8cG6IaFrpHG4VNEc0RCB8NOyiGrpxTiu5v3P6MfS+TGV6kMVeoSrSmEBlrDuhHum2EV5U5CmM/gm8SyJitmK17UOiqG7auoaC9U1FY5g+Yip2H5yw+4cnVlpvqYdqPLmQpOdFytPV9oiiv1zBJQI+ShjbhXIJ4dLRgBWM3fkOkZ3wzB47WsT/K1juQh3H4HH2wfef5PYvZIppxKCC1HWDCn/wj7eTl+/L0orQtC3MenEuzweHwDrZ1lkZQU9HKRiltRRqGBAduccqcHEs0w7yhGtZu4vYR6BC/IMC4pOjdPodrucwLyIwgxP2QL9h5zlrT519qSFehsYGzUSPnzHM+/+m6BGwHGq+KlPpI/xQGQExuNBPUsNOxFc4ETJNCLdgKmx05ssLx2SOoIgcFTZUuGz4HBtGjbJ5qbze9fnsHDLuJX2AWUxGyXM7FPTp7teWMNccO/eiy1wKpCfF0xVUx6Gw6SssSmTjbR4ZKFsbAi0pf7XaQSgUS5+MYbcOulIwcOjmCGVBgxmnARfgG47HEZ4JmcEJjImVVcTXfyz8eiGfHSzu+CafhFA//XcpFiBmie/43p/5hh8opKBuY+30Z1IjkmV5s/ahlzlhsBw0xbMejE6PFh81NMDBYcpRnnKBBqRp0hklPqiG9JZQ1JC+HAG7wn3H8qlY2GTm4d1ImHy0lvkOFFkSRiqliUhakqoKlg9aGKF91Lt5HDSITXs4LUkAnZHFn/yC0lDGo0fUM3WtGgnARu9vMYEdE9Kx2IaS0HfEkr1QsRX6X4yMUxp61r5xvABcvoOk6UA33OtPA/kacSMQIHA2fAokkS3DzGlRf214knGtDuzog6NrEbUrsz5eZAKG+k3zoyZRzg056bdb2Q2X6e7LIOJsBq8kSRlSTdQuJFIOgVb66LBNxSkBNE55uHddJkmlh/GF72FALD6Nuc3AsaKkkzmD6/CKFX9dlwxH41/YtHhJ9SgcuiT2H4EcuHITxJnfHcWwk3rsny15+ISc5Zl48DEC8jyUvDqHkKG+B7LvbKSSjYJCemp+09S7KOedZH/Z72jDCnZzoe8mBkVc4XuWDdo19TpjKEy4uBsL9Euolvr8Z5r5YCYALMg6+n9rtJWOlyJoKg/tlh3YebHr/kcDtrNkRKsbV9EPozPq/wjgjtO3V+uOxkoGH3odRhjrZF/dj7r9uAAAAAA)"
      ]
    },
    {
      "cell_type": "markdown",
      "metadata": {
        "id": "2dp9fdJcaQBV"
      },
      "source": [
        "**Example: Python while Loop**"
      ]
    },
    {
      "cell_type": "code",
      "metadata": {
        "colab": {
          "base_uri": "https://localhost:8080/"
        },
        "id": "yRyGVRnsaTyd",
        "outputId": "9a249f37-7e67-41e8-d223-1352123b6c78"
      },
      "source": [
        "# Program untuk menjumlahkan semua\n",
        "# bilangan asli hingga suku ke-n\n",
        "# jum = 1+2+3+...+n\n",
        "\n",
        "n=10\n",
        "jumlah=0\n",
        "i=1\n",
        "\n",
        "while i<=n:\n",
        "  jumlah=jumlah+i\n",
        "  i=i+1\n",
        "print(jumlah)"
      ],
      "execution_count": null,
      "outputs": [
        {
          "output_type": "stream",
          "name": "stdout",
          "text": [
            "55\n"
          ]
        }
      ]
    },
    {
      "cell_type": "markdown",
      "metadata": {
        "id": "6NicBSj6antW"
      },
      "source": [
        "## **While loop with else**"
      ]
    },
    {
      "cell_type": "markdown",
      "metadata": {
        "id": "72Yc5JYhars-"
      },
      "source": [
        "Sama dengan `for` loop kita juga dapat mengkombinasikan `while` loop dengan blok `else`.\n",
        "\n",
        "Bagian `else` akan dieksekusi jika nilai pada `test expression` pada `while loop` bernilai `False`. \n",
        "\n",
        "Perhatikan contoh berikut:"
      ]
    },
    {
      "cell_type": "code",
      "metadata": {
        "colab": {
          "base_uri": "https://localhost:8080/"
        },
        "id": "sds9g3robK8Z",
        "outputId": "82364f8f-c383-4bd9-e99f-9d372a259a53"
      },
      "source": [
        "jum=0\n",
        "i=1\n",
        "while i<=n:\n",
        "  jum=jum+i\n",
        "  i=i+1\n",
        "else:\n",
        "  print(jum) # dieksekusi di luar looping"
      ],
      "execution_count": null,
      "outputs": [
        {
          "output_type": "stream",
          "name": "stdout",
          "text": [
            "55\n"
          ]
        }
      ]
    },
    {
      "cell_type": "markdown",
      "metadata": {
        "id": "gyFPbk9-beRk"
      },
      "source": [
        "## Latihan 2"
      ]
    },
    {
      "cell_type": "markdown",
      "metadata": {
        "id": "ajYC6AG1bf9a"
      },
      "source": [
        "Diberikan list `tagihan` hitunglah `total_tagihan` menggunakan `while loop`.\n",
        "```\n",
        "tagihan=[50000, 75000, 125000, 300000, 200000]\n",
        "```\n",
        "\n"
      ]
    },
    {
      "cell_type": "code",
      "metadata": {
        "id": "cOmaWMhpbzIf",
        "colab": {
          "base_uri": "https://localhost:8080/"
        },
        "outputId": "ec619920-7bc8-4019-eb4a-d3b71e1ed760"
      },
      "source": [
        "# Tuliskan kodemu\n",
        "tagihan=[50000, 75000, 125000, 300000, 200000]\n",
        "total_tagihan=0\n",
        "i=0\n",
        "while i<len(tagihan):\n",
        "  total_tagihan+=tagihan[i]\n",
        "  i=i+1\n",
        "else:\n",
        "  print(total_tagihan)"
      ],
      "execution_count": 11,
      "outputs": [
        {
          "output_type": "stream",
          "name": "stdout",
          "text": [
            "750000\n"
          ]
        }
      ]
    }
  ]
}