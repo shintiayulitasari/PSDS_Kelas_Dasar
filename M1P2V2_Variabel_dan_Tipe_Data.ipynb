{
  "nbformat": 4,
  "nbformat_minor": 0,
  "metadata": {
    "colab": {
      "name": "M1P2V2_Variabel_dan_Tipe_Data",
      "provenance": []
    },
    "kernelspec": {
      "name": "python3",
      "display_name": "Python 3"
    },
    "language_info": {
      "name": "python"
    }
  },
  "cells": [
    {
      "cell_type": "markdown",
      "metadata": {
        "id": "CVF8KF-UQDd4"
      },
      "source": [
        "# Variabel & Tipe Data"
      ]
    },
    {
      "cell_type": "markdown",
      "metadata": {
        "id": "mvB6_746QHip"
      },
      "source": [
        "#### Variabel"
      ]
    },
    {
      "cell_type": "markdown",
      "metadata": {
        "id": "fhvTeBv0QMGL"
      },
      "source": [
        "**Variables** : Lokasi penyimpanan yang dapat digunakan untuk menampung sebuah data atau informasi.\n",
        "Syarat-syarat penamaan variabel\n",
        "1. Karakter-karakter yang digunakan untuk penamaan variabel adalah *alphabet*, angka dan *underscore*\n",
        "2. Karakter-karakter variabel berupa huruf atau garis bawah/*underscore* dan tidak bisa berupa angka\n",
        "3. Nama sebuah variabel tidak bisa menggunakan *keyword* atau *reserved words* dari bahasa Python seperti `for`, `if` dan lainnya.\n",
        "4. Karakter pada nama variabel bersifat sensitif (case-sensitif)."
      ]
    },
    {
      "cell_type": "code",
      "metadata": {
        "id": "AVQBYXobRaqq"
      },
      "source": [
        "# Membuat variabel\n",
        "kalimat='ini adalah variabel'\n",
        "bilangan1=4\n",
        "bilangan2=2.5\n",
        "bilangan3=True\n",
        "bilangan4=1j+4"
      ],
      "execution_count": 1,
      "outputs": []
    },
    {
      "cell_type": "code",
      "metadata": {
        "colab": {
          "base_uri": "https://localhost:8080/"
        },
        "id": "5OLIXqezTD-Q",
        "outputId": "ef78b86f-df9e-418b-cb67-91fa48b53991"
      },
      "source": [
        "# Menampilkan variabel\n",
        "print(kalimat)\n",
        "print(bilangan1)\n",
        "print(bilangan2)\n",
        "print(bilangan3)\n",
        "print(bilangan4)"
      ],
      "execution_count": 3,
      "outputs": [
        {
          "output_type": "stream",
          "name": "stdout",
          "text": [
            "ini adalah variabel\n",
            "4\n",
            "2.5\n",
            "True\n",
            "(4+1j)\n"
          ]
        }
      ]
    },
    {
      "cell_type": "markdown",
      "metadata": {
        "id": "uwRDUHWkTS5G"
      },
      "source": [
        "Latihan 1"
      ]
    },
    {
      "cell_type": "code",
      "metadata": {
        "colab": {
          "base_uri": "https://localhost:8080/"
        },
        "id": "P1OUNWClTR-J",
        "outputId": "3a0f91d2-5bd7-4757-89f3-906ca890e509"
      },
      "source": [
        "# Buatlah 5 variabel kalian sendiri dengan 5 macam tipe data\n",
        "# lalu tampilkan variabel menggunakan fungsi print\n",
        "\n",
        "a='Pusat Studi Data Sains'\n",
        "b=41\n",
        "c=3.75\n",
        "d=not True\n",
        "e=9+71j\n",
        "print(a)\n",
        "print(b)\n",
        "print(c)\n",
        "print(d)\n",
        "print(e)"
      ],
      "execution_count": 13,
      "outputs": [
        {
          "output_type": "stream",
          "name": "stdout",
          "text": [
            "Pusat Studi Data Sains\n",
            "41\n",
            "3.75\n",
            "False\n",
            "(9+71j)\n"
          ]
        }
      ]
    },
    {
      "cell_type": "markdown",
      "metadata": {
        "id": "1yyT1LoETh5H"
      },
      "source": [
        "#### Tipe Data"
      ]
    },
    {
      "cell_type": "markdown",
      "metadata": {
        "id": "iH7gGU3KTkiB"
      },
      "source": [
        "5 tipe data, yaitu :\n",
        "1. Integer atau bilangan bulat\n",
        "2. Float atau bilangan desimal\n",
        "3. String atau kalimat\n",
        "4. Boolean yang terdiri dari True dan False\n",
        "5. Complex yang merupakan bilangan kompleks"
      ]
    },
    {
      "cell_type": "code",
      "metadata": {
        "colab": {
          "base_uri": "https://localhost:8080/"
        },
        "id": "SAt_1MUXT8tz",
        "outputId": "7c661676-2861-4e20-840c-828200c3e4ef"
      },
      "source": [
        "# Menampilkan tipe data\n",
        "print(type(kalimat))\n",
        "print(type(bilangan1))\n",
        "print(type(bilangan2))\n",
        "print(type(bilangan3))\n",
        "print(type(bilangan4))"
      ],
      "execution_count": 4,
      "outputs": [
        {
          "output_type": "stream",
          "name": "stdout",
          "text": [
            "<class 'str'>\n",
            "<class 'int'>\n",
            "<class 'float'>\n",
            "<class 'bool'>\n",
            "<class 'complex'>\n"
          ]
        }
      ]
    },
    {
      "cell_type": "markdown",
      "metadata": {
        "id": "tY9ysIbfVT8l"
      },
      "source": [
        "Latihan 2"
      ]
    },
    {
      "cell_type": "code",
      "metadata": {
        "colab": {
          "base_uri": "https://localhost:8080/"
        },
        "id": "RMycZDFZVRka",
        "outputId": "aaebe352-0c9e-43db-9119-cad894267c62"
      },
      "source": [
        "# Cek tipe data variabel yang telah kalian buat pada latihan 1\n",
        "print(type(a))\n",
        "print(type(b))\n",
        "print(type(c))\n",
        "print(type(d))\n",
        "print(type(e))"
      ],
      "execution_count": 14,
      "outputs": [
        {
          "output_type": "stream",
          "name": "stdout",
          "text": [
            "<class 'str'>\n",
            "<class 'int'>\n",
            "<class 'float'>\n",
            "<class 'bool'>\n",
            "<class 'complex'>\n"
          ]
        }
      ]
    },
    {
      "cell_type": "markdown",
      "metadata": {
        "id": "abj_2r2_VcSA"
      },
      "source": [
        "#### Konversi Tipe Data"
      ]
    },
    {
      "cell_type": "markdown",
      "metadata": {
        "id": "xfeey14FWOBg"
      },
      "source": [
        "Syarat konversi tipe data :\n",
        "1. Integer = int()\n",
        "2. Float = float()\n",
        "3. String = str()\n",
        "4. Boolean = bool()\n",
        "5. Complex = complex()"
      ]
    },
    {
      "cell_type": "code",
      "metadata": {
        "colab": {
          "base_uri": "https://localhost:8080/"
        },
        "id": "sl39a-HObbuz",
        "outputId": "b2318c01-ff4d-4331-93cf-5ce511a05635"
      },
      "source": [
        "#Konversi tipe data integer\n",
        "print(int(bilangan2))\n",
        "print(int(bilangan3))"
      ],
      "execution_count": 5,
      "outputs": [
        {
          "output_type": "stream",
          "name": "stdout",
          "text": [
            "2\n",
            "1\n"
          ]
        }
      ]
    },
    {
      "cell_type": "code",
      "metadata": {
        "colab": {
          "base_uri": "https://localhost:8080/"
        },
        "id": "95sLvoQJgMxl",
        "outputId": "628d2f3d-4cb1-486b-d645-0f2fb974313a"
      },
      "source": [
        "#Konversi tipe data float\n",
        "print(float(bilangan1))\n",
        "print(float(bilangan3))"
      ],
      "execution_count": 6,
      "outputs": [
        {
          "output_type": "stream",
          "name": "stdout",
          "text": [
            "4.0\n",
            "1.0\n"
          ]
        }
      ]
    },
    {
      "cell_type": "code",
      "metadata": {
        "colab": {
          "base_uri": "https://localhost:8080/"
        },
        "id": "9t2frMpEgYPG",
        "outputId": "0d999d03-7105-46b8-bb2b-01deadf5702b"
      },
      "source": [
        "#Konversi tipe data string\n",
        "print(str(bilangan1))\n",
        "print(str(bilangan2))\n",
        "print(str(bilangan3))"
      ],
      "execution_count": 7,
      "outputs": [
        {
          "output_type": "stream",
          "name": "stdout",
          "text": [
            "4\n",
            "2.5\n",
            "True\n"
          ]
        }
      ]
    },
    {
      "cell_type": "code",
      "metadata": {
        "colab": {
          "base_uri": "https://localhost:8080/"
        },
        "id": "Yfk6Gx7UgmsB",
        "outputId": "1f535076-f177-4d46-b0e5-4e52e48c7960"
      },
      "source": [
        "#Konversi tipe data bool\n",
        "print(bool(bilangan1))\n",
        "print(bool(bilangan2))"
      ],
      "execution_count": 8,
      "outputs": [
        {
          "output_type": "stream",
          "name": "stdout",
          "text": [
            "True\n",
            "True\n"
          ]
        }
      ]
    },
    {
      "cell_type": "code",
      "metadata": {
        "colab": {
          "base_uri": "https://localhost:8080/"
        },
        "id": "C_PbOKsygxpW",
        "outputId": "44f2d03f-1282-42bb-81f4-e135062062b1"
      },
      "source": [
        "#Konversi tipe data complex\n",
        "print(complex(bilangan1))\n",
        "print(complex(bilangan2))\n",
        "print(complex(bilangan3))"
      ],
      "execution_count": 9,
      "outputs": [
        {
          "output_type": "stream",
          "name": "stdout",
          "text": [
            "(4+0j)\n",
            "(2.5+0j)\n",
            "(1+0j)\n"
          ]
        }
      ]
    },
    {
      "cell_type": "markdown",
      "metadata": {
        "id": "cYl7fMPahCYV"
      },
      "source": [
        "Latihan 3"
      ]
    },
    {
      "cell_type": "code",
      "metadata": {
        "colab": {
          "base_uri": "https://localhost:8080/"
        },
        "id": "fooK5TDGhEF4",
        "outputId": "bd3bca7a-a0f2-4dd8-c9a2-64aec6aded51"
      },
      "source": [
        "#Konversi tiap tipe data yang telah kalian buat\n",
        "#menjadi berbagai macam tipe data\n",
        "\n",
        "print('Konversi tipe data integer')\n",
        "print(int(b))\n",
        "print(int(c))\n",
        "print(int(d))\n",
        "print('-'*20)\n",
        "print('Konversi tipe data float')\n",
        "print(float(b))\n",
        "print(float(c))\n",
        "print(float(d))\n",
        "print('-'*20)\n",
        "print('Konversi tipe data string')\n",
        "print(str(a))\n",
        "print(str(b))\n",
        "print(str(c))\n",
        "print(str(d))\n",
        "print(str(e))\n",
        "print('-'*20)\n",
        "print('Konversi tipe data bool')\n",
        "print(bool(a))\n",
        "print(bool(b))\n",
        "print(bool(c))\n",
        "print(bool(d))\n",
        "print(bool(e))\n",
        "print('-'*20)\n",
        "print('Konversi tipe data complex')\n",
        "print(complex(b))\n",
        "print(complex(c))\n",
        "print(complex(d))\n",
        "print(complex(e))"
      ],
      "execution_count": 20,
      "outputs": [
        {
          "output_type": "stream",
          "name": "stdout",
          "text": [
            "Konversi tipe data integer\n",
            "41\n",
            "3\n",
            "0\n",
            "--------------------\n",
            "Konversi tipe data float\n",
            "41.0\n",
            "3.75\n",
            "0.0\n",
            "--------------------\n",
            "Konversi tipe data string\n",
            "Pusat Studi Data Sains\n",
            "41\n",
            "3.75\n",
            "False\n",
            "(9+71j)\n",
            "--------------------\n",
            "Konversi tipe data bool\n",
            "True\n",
            "True\n",
            "True\n",
            "False\n",
            "True\n",
            "--------------------\n",
            "Konversi tipe data complex\n",
            "(41+0j)\n",
            "(3.75+0j)\n",
            "0j\n",
            "(9+71j)\n"
          ]
        }
      ]
    }
  ]
}