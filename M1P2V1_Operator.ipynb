{
  "nbformat": 4,
  "nbformat_minor": 0,
  "metadata": {
    "colab": {
      "name": "M1P2V1_Operator",
      "provenance": []
    },
    "kernelspec": {
      "name": "python3",
      "display_name": "Python 3"
    },
    "language_info": {
      "name": "python"
    }
  },
  "cells": [
    {
      "cell_type": "markdown",
      "metadata": {
        "id": "_UkLhEgeYMtU"
      },
      "source": [
        "# Operator"
      ]
    },
    {
      "cell_type": "markdown",
      "metadata": {
        "id": "10XUTjv3YS_5"
      },
      "source": [
        "Operator = simbol-simbol yang dapat digunakan untuk mengubah nilai dari satu variabel dengan melibatkan satu atau lebih variabel dan literal.\n",
        "Tipe-tipe operator :\n",
        "1. Operator Aritmetika\n",
        "2. Operator Assignment\n",
        "3. Operator Pembanding\n",
        "4. Operator Logika\n",
        "5. Operator Membership"
      ]
    },
    {
      "cell_type": "markdown",
      "metadata": {
        "id": "c-rTIO3QZvl7"
      },
      "source": [
        "# Operator Aritmetika"
      ]
    },
    {
      "cell_type": "markdown",
      "metadata": {
        "id": "Od213IKXZ6Sg"
      },
      "source": [
        "Operator Aritmetika digunakan untuk melakukan operasi matematika yang umum.\n",
        "Macam-macam operator aritmatika :\n",
        "\n",
        "```\n",
        "+ : Penjumlahan\n",
        "- : Pengurangan\n",
        "* : Perkalian\n",
        "/ : Pembagian\n",
        "% : Modulus\n",
        "** : Perpangkatan\n",
        "// : Pembagian dengan hasil pembulatan flooring\n",
        "```\n",
        "\n"
      ]
    },
    {
      "cell_type": "code",
      "metadata": {
        "colab": {
          "base_uri": "https://localhost:8080/"
        },
        "id": "4hy7U2Gaatjt",
        "outputId": "6ea7c55f-e408-4a78-b2f3-176fd4965a5d"
      },
      "source": [
        "# Contoh penggunaan operator aritmetika\n",
        "\n",
        "#Penjumlahan\n",
        "print('Penjumlahan')\n",
        "print(2+2)\n",
        "#Pengurangan\n",
        "print('-'*20)\n",
        "print('Pengurangan')\n",
        "print(2-3)\n",
        "#Perkalian\n",
        "print('-'*20)\n",
        "print('Perkalian')\n",
        "print(2*3)\n",
        "#Pembagian\n",
        "print('-'*20)\n",
        "print('Pembagian')\n",
        "print(2/3)\n",
        "#Modulus\n",
        "print('-'*20)\n",
        "print('Modulus')\n",
        "print(2%3)\n",
        "#Perpangkatan\n",
        "print('-'*20)\n",
        "print('Perpangkatan')\n",
        "print(2**3)\n",
        "#Pembagian Pembulatan Floring\n",
        "print('-'*20)\n",
        "print('Pembagian Pembulatan Floring')\n",
        "print(3//2)\n",
        "print(2//3)"
      ],
      "execution_count": null,
      "outputs": [
        {
          "output_type": "stream",
          "name": "stdout",
          "text": [
            "Penjumlahan\n",
            "4\n",
            "--------------------\n",
            "Pengurangan\n",
            "-1\n",
            "--------------------\n",
            "Perkalian\n",
            "6\n",
            "--------------------\n",
            "Pembagian\n",
            "0.6666666666666666\n",
            "--------------------\n",
            "Modulus\n",
            "2\n",
            "--------------------\n",
            "Perpangkatan\n",
            "8\n",
            "--------------------\n",
            "Pembagian Pembulatan Floring\n",
            "1\n",
            "0\n"
          ]
        }
      ]
    },
    {
      "cell_type": "markdown",
      "metadata": {
        "id": "-Kh5JwBsc-OU"
      },
      "source": [
        "Latihan Operator 1"
      ]
    },
    {
      "cell_type": "code",
      "metadata": {
        "colab": {
          "base_uri": "https://localhost:8080/"
        },
        "id": "Gg0jIExIdD5b",
        "outputId": "81d3b467-2b38-4c04-b9ac-5919532fca50"
      },
      "source": [
        "# Buatlah program penerapan operator matematika dengan nilai-nilai yang berbeda dari contoh di atas.\n",
        "\n",
        "print('Penjumlahan & Pengurangan')\n",
        "print(347+89-400)\n",
        "print('Perkalian & Pembagian')\n",
        "print(66*7/3)\n",
        "print('Modulus')\n",
        "print(66*7/3%3)\n",
        "print('Perpangkatan')\n",
        "print(2**99)\n",
        "print('Pembagian')\n",
        "print(77/3)\n",
        "print('Pembagian Pembulatan Floring')\n",
        "print(77//3)"
      ],
      "execution_count": null,
      "outputs": [
        {
          "output_type": "stream",
          "name": "stdout",
          "text": [
            "Penjumlahan & Pengurangan\n",
            "36\n",
            "Perkalian & Pembagian\n",
            "154.0\n",
            "Modulus\n",
            "1.0\n",
            "Perpangkatan\n",
            "633825300114114700748351602688\n",
            "Pembagian\n",
            "25.666666666666668\n",
            "Pembagian Pembulatan Floring\n",
            "25\n"
          ]
        }
      ]
    },
    {
      "cell_type": "markdown",
      "metadata": {
        "id": "r2xIS4lEe2xp"
      },
      "source": [
        "# Operator Assigment"
      ]
    },
    {
      "cell_type": "markdown",
      "metadata": {
        "id": "a4hlFrbBe6a3"
      },
      "source": [
        "Operator `assignment` digunakan untuk menyimpan nilai menjadi suatu variabel.\n",
        "```\n",
        "=   : contohnya x = 5      -> x = 5\n",
        "+=  : contohnya x = x + 5  -> x += 5\n",
        "-=  : contohnya x = x - 5  -> x -= 5\n",
        "*=  : contohnya x = x * 5  -> x *= 5\n",
        "/=  : contohnya x = x / 5  -> x /= 5\n",
        "%=  : contohnya x = x % 5  -> x %= 5\n",
        "//= : contohnya x = x // 5 -> x //= 5\n",
        "**= : contohnya x = x ** 5 -> x **= 5\n",
        "```"
      ]
    },
    {
      "cell_type": "code",
      "metadata": {
        "colab": {
          "base_uri": "https://localhost:8080/"
        },
        "id": "HLvFRK2ygOmX",
        "outputId": "fb747c65-08b9-4447-f212-437003a3f658"
      },
      "source": [
        "# Contoh Penggunaan Operator Assignment\n",
        "\n",
        "#Penjumlahan \n",
        "print('Penjumlahan')\n",
        "x=5\n",
        "x=x+5\n",
        "print(x)\n",
        "x=5\n",
        "x+=3\n",
        "print(x)\n",
        "print('-'*20)\n",
        "\n",
        "#Pengurangan\n",
        "print('Pengurangan')\n",
        "x=5\n",
        "x=x-5\n",
        "print(x)\n",
        "x=5\n",
        "x-=3\n",
        "print(x)\n",
        "print('-'*20)\n",
        "\n",
        "#Perkalian\n",
        "print('Perkalian')\n",
        "x=5\n",
        "x=x*5\n",
        "print(x)\n",
        "x=5\n",
        "x*=3\n",
        "print(x)\n",
        "print('-'*20)\n",
        "\n",
        "#Pembagian\n",
        "print('Pembagian')\n",
        "x=5\n",
        "x=x/5\n",
        "print(x)\n",
        "x=5\n",
        "x/=3\n",
        "print(x)\n",
        "print('-'*20)\n",
        "\n",
        "#Modulus\n",
        "print('Modulus')\n",
        "x=5\n",
        "x=x%5\n",
        "print(x)\n",
        "x=5\n",
        "x%=3\n",
        "print(x)\n",
        "print('-'*20)\n",
        "\n",
        "#Pembagian Floring\n",
        "print('Pembagian Floring')\n",
        "x=5\n",
        "x=x//5\n",
        "print(x)\n",
        "x=5\n",
        "x//=3\n",
        "print(x)\n",
        "print('-'*20)\n",
        "\n",
        "#Perpangkatan\n",
        "print('Perpangkatan')\n",
        "x=5\n",
        "x=x**5\n",
        "print(x)\n",
        "x=5\n",
        "x**=3\n",
        "print(x)\n",
        "print('-'*20)"
      ],
      "execution_count": null,
      "outputs": [
        {
          "output_type": "stream",
          "name": "stdout",
          "text": [
            "Penjumlahan\n",
            "10\n",
            "8\n",
            "--------------------\n",
            "Pengurangan\n",
            "0\n",
            "2\n",
            "--------------------\n",
            "Perkalian\n",
            "25\n",
            "15\n",
            "--------------------\n",
            "Pembagian\n",
            "1.0\n",
            "1.6666666666666667\n",
            "--------------------\n",
            "Modulus\n",
            "0\n",
            "2\n",
            "--------------------\n",
            "Pembagian Floring\n",
            "1\n",
            "1\n",
            "--------------------\n",
            "Perpangkatan\n",
            "3125\n",
            "125\n",
            "--------------------\n"
          ]
        }
      ]
    },
    {
      "cell_type": "markdown",
      "metadata": {
        "id": "exSF8eEnjjPz"
      },
      "source": [
        "Latihan Operator 2"
      ]
    },
    {
      "cell_type": "code",
      "metadata": {
        "id": "F9kIHZ41jlhC",
        "colab": {
          "base_uri": "https://localhost:8080/"
        },
        "outputId": "57a69723-7f34-4926-9b4c-b5269c2d2178"
      },
      "source": [
        "# Buatlah program penerapan operator assignment\n",
        "# dengan nilai-nilai yang berbeda dari contoh di atas\n",
        "\n",
        "#Penjumlahan \n",
        "print('Penjumlahan')\n",
        "x=873\n",
        "x=x+7\n",
        "print(x)\n",
        "x=873\n",
        "x+=7\n",
        "print(x)\n",
        "print('-'*20)\n",
        "\n",
        "#Pengurangan\n",
        "print('Pengurangan')\n",
        "x=873\n",
        "x=x-3\n",
        "print(x)\n",
        "x=873\n",
        "x-=3\n",
        "print(x)\n",
        "print('-'*20)\n",
        "\n",
        "#Perkalian\n",
        "print('Perkalian')\n",
        "x=873\n",
        "x=x*8\n",
        "print(x)\n",
        "x=873\n",
        "x*=8\n",
        "print(x)\n",
        "print('-'*20)\n",
        "\n",
        "#Pembagian\n",
        "print('Pembagian')\n",
        "x=873\n",
        "x=x/3\n",
        "print(x)\n",
        "x=873\n",
        "x/=3\n",
        "print(x)\n",
        "print('-'*20)\n",
        "\n",
        "#Modulus\n",
        "print('Modulus')\n",
        "x=873\n",
        "x=x%5\n",
        "print(x)\n",
        "x=873\n",
        "x%=5\n",
        "print(x)\n",
        "print('-'*20)\n",
        "\n",
        "#Pembagian Floring\n",
        "print('Pembagian Floring')\n",
        "x=873\n",
        "x=x//7\n",
        "print(x)\n",
        "x=873\n",
        "x//=7\n",
        "print(x)\n",
        "print('-'*20)\n",
        "\n",
        "#Perpangkatan\n",
        "print('Perpangkatan')\n",
        "x=7\n",
        "x=x**5\n",
        "print(x)\n",
        "x=5\n",
        "x*=7\n",
        "print(x)\n",
        "print('-'*20)"
      ],
      "execution_count": 5,
      "outputs": [
        {
          "output_type": "stream",
          "name": "stdout",
          "text": [
            "Penjumlahan\n",
            "880\n",
            "880\n",
            "--------------------\n",
            "Pengurangan\n",
            "870\n",
            "870\n",
            "--------------------\n",
            "Perkalian\n",
            "6984\n",
            "6984\n",
            "--------------------\n",
            "Pembagian\n",
            "291.0\n",
            "291.0\n",
            "--------------------\n",
            "Modulus\n",
            "3\n",
            "3\n",
            "--------------------\n",
            "Pembagian Floring\n",
            "124\n",
            "124\n",
            "--------------------\n",
            "Perpangkatan\n",
            "16807\n",
            "35\n",
            "--------------------\n"
          ]
        }
      ]
    },
    {
      "cell_type": "markdown",
      "metadata": {
        "id": "EPekwvkkk4Jn"
      },
      "source": [
        "# Operator Pembanding\n"
      ]
    },
    {
      "cell_type": "markdown",
      "metadata": {
        "id": "fs_vyCJtk7bU"
      },
      "source": [
        "Operator pembanding digunkan untuk membandingkan 2 nilai atau variabel.\n",
        "Macam-macam operator pembanding :\n",
        "```\n",
        "== -> samadengan\n",
        "!= -> tidak samadengan\n",
        ">  -> lebih dari\n",
        "<  -> kurang dari\n",
        ">= -> lebih dari samadengan\n",
        "<= -> kurang dari samadengan\n",
        "```\n",
        "\n"
      ]
    },
    {
      "cell_type": "code",
      "metadata": {
        "colab": {
          "base_uri": "https://localhost:8080/"
        },
        "id": "cC5i0UODlXfC",
        "outputId": "aa5c25e8-ec94-4a85-ed1e-7b8cff390198"
      },
      "source": [
        "# Contoh penggunaan operator pembanding\n",
        "\n",
        "print(2==2)\n",
        "print(2!=2)\n",
        "print(2>2)\n",
        "print(2<2)\n",
        "print(2>=2)\n",
        "print(2<=2)"
      ],
      "execution_count": null,
      "outputs": [
        {
          "output_type": "stream",
          "name": "stdout",
          "text": [
            "True\n",
            "False\n",
            "False\n",
            "False\n",
            "True\n",
            "True\n"
          ]
        }
      ]
    },
    {
      "cell_type": "markdown",
      "metadata": {
        "id": "NTl5_c-7oih5"
      },
      "source": [
        "Latihan Operator 3"
      ]
    },
    {
      "cell_type": "code",
      "metadata": {
        "id": "-JrrwqVuogvH",
        "colab": {
          "base_uri": "https://localhost:8080/"
        },
        "outputId": "0df35529-9972-4905-b4f1-86668703cfb5"
      },
      "source": [
        "# Buatlah program penerapan operator pembanding\n",
        "# dengan nilai-nilai yang berbeda dari contoh di atas\n",
        "\n",
        "print(7==7)\n",
        "print(7!=9)\n",
        "print(4>-1)\n",
        "print(6<-6)\n",
        "print(6>=6)\n",
        "print(8<=7)"
      ],
      "execution_count": 3,
      "outputs": [
        {
          "output_type": "stream",
          "name": "stdout",
          "text": [
            "True\n",
            "True\n",
            "True\n",
            "False\n",
            "True\n",
            "False\n"
          ]
        }
      ]
    },
    {
      "cell_type": "markdown",
      "metadata": {
        "id": "qD7N_Yxhoug4"
      },
      "source": [
        "# Operator Logika"
      ]
    },
    {
      "cell_type": "markdown",
      "metadata": {
        "id": "iZa8jUSBowpj"
      },
      "source": [
        "Operator logika digunakan untuk mengkombinasikan statment-statment kondisional.\n",
        "Macam-macam operator logika :\n",
        "```\n",
        "and -> kondisi menjadi benar apabila semua statementnya ada yang benar\n",
        "or  -> kondisi menjadi benar apabila salah satu statementnya ada yang benar\n",
        "not -> membalik hasil dari benar ke salah dan salah ke benar\n",
        "```\n",
        "\n"
      ]
    },
    {
      "cell_type": "code",
      "metadata": {
        "colab": {
          "base_uri": "https://localhost:8080/"
        },
        "id": "ZxjUmojVpae4",
        "outputId": "3163cb9b-fbfd-481e-d870-f7ad2581bb90"
      },
      "source": [
        "# Contoh penggunaan operator logika\n",
        "\n",
        "print(True and False)\n",
        "print(False or False)\n",
        "print(not False and True)"
      ],
      "execution_count": null,
      "outputs": [
        {
          "output_type": "stream",
          "name": "stdout",
          "text": [
            "False\n",
            "False\n",
            "True\n"
          ]
        }
      ]
    },
    {
      "cell_type": "markdown",
      "metadata": {
        "id": "3iC7PgRWppwq"
      },
      "source": [
        "Latihan Operator 4"
      ]
    },
    {
      "cell_type": "code",
      "metadata": {
        "id": "TcqEI8j1poUZ",
        "colab": {
          "base_uri": "https://localhost:8080/"
        },
        "outputId": "05babbbf-d102-4e7f-9878-59105e4bc125"
      },
      "source": [
        "# Buatlah program penerapan operator logika\n",
        "# dengan nilai-nilai yang berbeda dari contoh di atas\n",
        "\n",
        "print(True and True)\n",
        "print(False and False)\n",
        "print(not False and False)\n",
        "print(not False and not True)\n",
        "print(True or True)\n",
        "print(False or True)\n",
        "print(True or False)\n",
        "print(not True or False)\n",
        "\n",
        "print('-'*20)\n",
        "\n",
        "a = (5 > 6) and (10 <= 8)\n",
        "print(a)\n",
        " \n",
        "a = ('psds' == 'psds') or (10 <= 8)\n",
        "print(a)\n",
        " \n",
        "a = not (10 < 10)\n",
        "print(a)\n",
        " \n",
        "a = ('psds' == 'psds') and (10 <= 8) or (1 != 1)\n",
        "print(a)"
      ],
      "execution_count": 9,
      "outputs": [
        {
          "output_type": "stream",
          "name": "stdout",
          "text": [
            "True\n",
            "False\n",
            "False\n",
            "False\n",
            "True\n",
            "True\n",
            "True\n",
            "False\n",
            "--------------------\n",
            "False\n",
            "True\n",
            "True\n",
            "False\n"
          ]
        }
      ]
    },
    {
      "cell_type": "markdown",
      "metadata": {
        "id": "j-Fzd0o9p0y-"
      },
      "source": [
        "# Operator Keanggotaan"
      ]
    },
    {
      "cell_type": "markdown",
      "metadata": {
        "id": "VDjnOc0Sp3ff"
      },
      "source": [
        "Operator keanggotaan digunakan untuk menguji apakah urutan disajikan dengan suatu objek.\n",
        "Macam-macam operator keanggotaan :\n",
        "```\n",
        "in     -> return True ketika nilai tertentu dalam sebuah urutan ada\n",
        "not in -> return True ketika nilai tertentu dalam sebuah urutan tidak ada\n",
        "```\n",
        "\n"
      ]
    },
    {
      "cell_type": "code",
      "metadata": {
        "id": "MMvdt5SjqWSg",
        "colab": {
          "base_uri": "https://localhost:8080/"
        },
        "outputId": "cc1a554b-6d7f-4b7c-e632-cdb8247b90d3"
      },
      "source": [
        "# Contoh penggunaan operator keanggotaan\n",
        "a=(1,2,3,4,5,6)\n",
        "b=2\n",
        "\n",
        "print(b in a)\n",
        "\n",
        "print('-'*20)\n",
        "a=(1,2,3,4,5,6)\n",
        "b=7\n",
        "print(b not in a)"
      ],
      "execution_count": 1,
      "outputs": [
        {
          "output_type": "stream",
          "name": "stdout",
          "text": [
            "True\n",
            "--------------------\n",
            "True\n"
          ]
        }
      ]
    },
    {
      "cell_type": "markdown",
      "metadata": {
        "id": "DTcYMpbxEk9c"
      },
      "source": [
        "Latihan Operator 5"
      ]
    },
    {
      "cell_type": "code",
      "metadata": {
        "colab": {
          "base_uri": "https://localhost:8080/"
        },
        "id": "tMEDmkHGEjP7",
        "outputId": "4449b261-7bb8-4b58-ca2e-5947f404cd6c"
      },
      "source": [
        "# Buatlah program penerapan operator keanggotaan/membership\n",
        "# dengan nilai-nilai yang berbeda dari contoh di atas\n",
        "\n",
        "nama=('s','h','i','n','t','a')\n",
        "cek='i'\n",
        "print(cek in nama)\n",
        "print('-'*20)\n",
        "cek='k'\n",
        "print(cek in nama)"
      ],
      "execution_count": 11,
      "outputs": [
        {
          "output_type": "stream",
          "name": "stdout",
          "text": [
            "True\n",
            "--------------------\n",
            "False\n"
          ]
        }
      ]
    }
  ]
}