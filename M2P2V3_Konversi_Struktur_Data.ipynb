{
  "nbformat": 4,
  "nbformat_minor": 0,
  "metadata": {
    "colab": {
      "name": "M2P2V3_Konversi Struktur Data",
      "provenance": []
    },
    "kernelspec": {
      "name": "python3",
      "display_name": "Python 3"
    },
    "language_info": {
      "name": "python"
    }
  },
  "cells": [
    {
      "cell_type": "markdown",
      "metadata": {
        "id": "P6dTyFi3-mNt"
      },
      "source": [
        "# Konversi Struktur Data"
      ]
    },
    {
      "cell_type": "markdown",
      "metadata": {
        "id": "DhEAdCzX-ozE"
      },
      "source": [
        "Fungsi untuk mengubah/konversi struktur data:\n",
        "\n",
        "a.   `list()`: untuk mengubah menjadi list\n",
        "\n",
        "b.   `tuple()`: untuk mengubah menjadi tuple \n",
        "\n",
        "c.   `set()`: untuk mengubah menjadi set\n",
        "\n",
        "d.   `disct()`: untuk mengubah menjadi dictionary"
      ]
    },
    {
      "cell_type": "markdown",
      "metadata": {
        "id": "--iAQ9Rd_vVa"
      },
      "source": [
        "## Mengkonversi tipe data list:"
      ]
    },
    {
      "cell_type": "code",
      "metadata": {
        "id": "s0RhBENj_zvs"
      },
      "source": [
        "# Membuat 2 list\n",
        "L1 = [1,2,3,4] \n",
        "L2 = [5,6,7,8]"
      ],
      "execution_count": 1,
      "outputs": []
    },
    {
      "cell_type": "code",
      "metadata": {
        "colab": {
          "base_uri": "https://localhost:8080/"
        },
        "id": "6FHF13sC_-Dy",
        "outputId": "d585eaf3-55de-45a4-ae27-074416b28f4b"
      },
      "source": [
        "# Mengkonversi struktu data list\n",
        "k_tuple = tuple(L1)\n",
        "k_set = set(L2)\n",
        "k_dict = dict(zip(L1,L2))\n",
        "\n",
        "# Melihat data yang telah dikonversi\n",
        "print(k_tuple)\n",
        "print(k_set)\n",
        "print(k_dict)"
      ],
      "execution_count": 2,
      "outputs": [
        {
          "output_type": "stream",
          "name": "stdout",
          "text": [
            "(1, 2, 3, 4)\n",
            "{8, 5, 6, 7}\n",
            "{1: 5, 2: 6, 3: 7, 4: 8}\n"
          ]
        }
      ]
    },
    {
      "cell_type": "markdown",
      "metadata": {
        "id": "2FFCABa2Ax8f"
      },
      "source": [
        "## Mengkonversi tipe data tuple:"
      ]
    },
    {
      "cell_type": "code",
      "metadata": {
        "id": "1SlqENLQA1dS"
      },
      "source": [
        "# Membuat 2 tuple\n",
        "T1 = (1,2,3,4) \n",
        "T2 = (5,6,7,8)"
      ],
      "execution_count": 3,
      "outputs": []
    },
    {
      "cell_type": "code",
      "metadata": {
        "colab": {
          "base_uri": "https://localhost:8080/"
        },
        "id": "usV1DxPuBMmc",
        "outputId": "969f936c-1d1b-4cb8-8d47-de8f1c8832de"
      },
      "source": [
        "# Mengkonversi struktu data tuple\n",
        "k_list = list(T1)\n",
        "k_set = set(T2)\n",
        "k_dict = dict(zip(T1,T2))\n",
        "\n",
        "# Melihat data yang telah dikonversi\n",
        "print(k_list)\n",
        "print(k_set)\n",
        "print(k_dict)"
      ],
      "execution_count": 4,
      "outputs": [
        {
          "output_type": "stream",
          "name": "stdout",
          "text": [
            "[1, 2, 3, 4]\n",
            "{8, 5, 6, 7}\n",
            "{1: 5, 2: 6, 3: 7, 4: 8}\n"
          ]
        }
      ]
    },
    {
      "cell_type": "markdown",
      "metadata": {
        "id": "wgwQiZg3Barj"
      },
      "source": [
        "## Mengkonversi tipe data set:"
      ]
    },
    {
      "cell_type": "code",
      "metadata": {
        "id": "iull0MTOBeOB"
      },
      "source": [
        "# Membuat 2 set\n",
        "S1 = [1,2,3,4] \n",
        "S2 = [5,6,7,8]"
      ],
      "execution_count": 5,
      "outputs": []
    },
    {
      "cell_type": "code",
      "metadata": {
        "colab": {
          "base_uri": "https://localhost:8080/"
        },
        "id": "jZUzddPuBx12",
        "outputId": "229166bc-0f3a-41f8-c9e1-6531484b916b"
      },
      "source": [
        "# Mengkonversi struktu data set\n",
        "k_list = list(S1)\n",
        "k_tuple = tuple(S2)\n",
        "k_dict = dict(zip(S1,S2))\n",
        "\n",
        "# Melihat data yang telah dikonversi\n",
        "print(k_list)\n",
        "print(k_tuple)\n",
        "print(k_dict)"
      ],
      "execution_count": 6,
      "outputs": [
        {
          "output_type": "stream",
          "name": "stdout",
          "text": [
            "[1, 2, 3, 4]\n",
            "(5, 6, 7, 8)\n",
            "{1: 5, 2: 6, 3: 7, 4: 8}\n"
          ]
        }
      ]
    },
    {
      "cell_type": "markdown",
      "metadata": {
        "id": "anA8heorCCQI"
      },
      "source": [
        "## Mengkonversi tipe data dictionary:"
      ]
    },
    {
      "cell_type": "code",
      "metadata": {
        "id": "cl8T3O7tCHro"
      },
      "source": [
        "# Membuat dictionary\n",
        "D = {\n",
        "    \"nama\": \"Andi\",\n",
        "     \"alamat\": \"Yogyakarta\",\n",
        "     \"umur\": 20\n",
        "}"
      ],
      "execution_count": 7,
      "outputs": []
    },
    {
      "cell_type": "code",
      "metadata": {
        "colab": {
          "base_uri": "https://localhost:8080/"
        },
        "id": "C2HMvWfWCm89",
        "outputId": "ca2717e9-d4a8-4ffe-ff0b-3a996fb10a87"
      },
      "source": [
        "# Mengkonversi struktu data dict\n",
        "k_list = list(D.keys())\n",
        "k_tuple = tuple(D.values())\n",
        "k_set = set(D.keys())\n",
        "\n",
        "# Melihat data yang telah dikonversi\n",
        "print(k_list)\n",
        "print(k_tuple)\n",
        "print(k_set)"
      ],
      "execution_count": 8,
      "outputs": [
        {
          "output_type": "stream",
          "name": "stdout",
          "text": [
            "['nama', 'alamat', 'umur']\n",
            "('Andi', 'Yogyakarta', 20)\n",
            "{'alamat', 'nama', 'umur'}\n"
          ]
        }
      ]
    },
    {
      "cell_type": "markdown",
      "metadata": {
        "id": "4RX7RNuBDVCq"
      },
      "source": [
        "## Latihan"
      ]
    },
    {
      "cell_type": "code",
      "metadata": {
        "id": "lrJCDolRDYPA",
        "colab": {
          "base_uri": "https://localhost:8080/"
        },
        "outputId": "32f0b9bf-8785-4cac-92bd-15cba10d400d"
      },
      "source": [
        "# Lakukan konversi struktur data yang kalian buat pada notebook-notebook\n",
        "# sebelumnya menjadi list, tuple, set, dan dictionary (masing-masing satu)\n",
        "\n",
        "print(\"Konversi Tipe Data List\")\n",
        "shin = [\"PSDS\", \"Python\", 3.0, 2021, \"7 Oktober\", \"M2P1V1\", True]\n",
        "L1 = [1, \"dua\", True, 2+3j, 2+3j]\n",
        "k_tuple = tuple(shin)\n",
        "k_set = set(shin)\n",
        "k_dict = dict(zip(shin,L1))\n",
        "print(k_tuple)\n",
        "print(k_set)\n",
        "print(k_dict)\n",
        "print(\"-\"*20)\n",
        "\n",
        "print(\"Konversi Tipe Data Tuple\")\n",
        "shn2 = (\"struktur data tuple\",\"M2P1V3\", 19.49, False)\n",
        "T1 = (1, \"dua\", True, 2+3j, 2+3j)\n",
        "k_list = list(shn2)\n",
        "k_set = set(shn2)\n",
        "k_dict = dict(zip(shn2,T1))\n",
        "print(k_list)\n",
        "print(k_set)\n",
        "print(k_dict)\n",
        "print(\"-\"*20)\n",
        "\n",
        "print(\"Konversi Tipe Data Set\")\n",
        "s = {\"dua belas\", \"oktober\", 2021, 1900015057, True, False, 2021}\n",
        "S1 = {1, \"dua\", True, 2+3j, 2+3j}\n",
        "k_list = list(s)\n",
        "k_tuple = tuple(s)\n",
        "k_dict = dict(zip(s,S1))\n",
        "print(k_list)\n",
        "print(k_tuple)\n",
        "print(k_dict)\n",
        "print(\"-\"*20)\n",
        "\n",
        "print(\"Konversi Tipe Data Dictionary\")\n",
        "Ds = {\n",
        "    \"Nama\": \"Shintia Yulita Sari\", \n",
        "    1900015057: \"NIM\", \n",
        "    \"Prodi\": \"Matematika\", \n",
        "    2019: \"Agkatan\" \n",
        "}\n",
        "k_list = list(Ds.keys())\n",
        "k_tuple = tuple(Ds.values())\n",
        "k_set = set(Ds.keys())\n",
        "print(k_list)\n",
        "print(k_tuple)\n",
        "print(k_set)"
      ],
      "execution_count": 9,
      "outputs": [
        {
          "output_type": "stream",
          "name": "stdout",
          "text": [
            "Konversi Tipe Data List\n",
            "('PSDS', 'Python', 3.0, 2021, '7 Oktober', 'M2P1V1', True)\n",
            "{True, 'M2P1V1', 3.0, 2021, '7 Oktober', 'Python', 'PSDS'}\n",
            "{'PSDS': 1, 'Python': 'dua', 3.0: True, 2021: (2+3j), '7 Oktober': (2+3j)}\n",
            "--------------------\n",
            "Konversi Tipe Data Tuple\n",
            "['struktur data tuple', 'M2P1V3', 19.49, False]\n",
            "{'M2P1V3', False, 'struktur data tuple', 19.49}\n",
            "{'struktur data tuple': 1, 'M2P1V3': 'dua', 19.49: True, False: (2+3j)}\n",
            "--------------------\n",
            "Konversi Tipe Data Set\n",
            "[False, True, 2021, 'dua belas', 'oktober', 1900015057]\n",
            "(False, True, 2021, 'dua belas', 'oktober', 1900015057)\n",
            "{False: 1, True: 'dua', 2021: (2+3j)}\n",
            "--------------------\n",
            "Konversi Tipe Data Dictionary\n",
            "['Nama', 1900015057, 'Prodi', 2019]\n",
            "('Shintia Yulita Sari', 'NIM', 'Matematika', 'Agkatan')\n",
            "{1900015057, 'Prodi', 2019, 'Nama'}\n"
          ]
        }
      ]
    }
  ]
}