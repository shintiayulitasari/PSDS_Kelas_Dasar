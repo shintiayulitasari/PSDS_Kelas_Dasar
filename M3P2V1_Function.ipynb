{
  "nbformat": 4,
  "nbformat_minor": 0,
  "metadata": {
    "colab": {
      "name": "M3P2V1_Function",
      "provenance": [],
      "authorship_tag": "ABX9TyMwKeCgbY/6ETi6cFO/Rhpm",
      "include_colab_link": true
    },
    "kernelspec": {
      "name": "python3",
      "display_name": "Python 3"
    },
    "language_info": {
      "name": "python"
    }
  },
  "cells": [
    {
      "cell_type": "markdown",
      "metadata": {
        "id": "view-in-github",
        "colab_type": "text"
      },
      "source": [
        "<a href=\"https://colab.research.google.com/github/shintiayulitasari/PSDS_Kelas_Dasar/blob/main/M3P2V1_Function.ipynb\" target=\"_parent\"><img src=\"https://colab.research.google.com/assets/colab-badge.svg\" alt=\"Open In Colab\"/></a>"
      ]
    },
    {
      "cell_type": "markdown",
      "metadata": {
        "id": "omBNXFVjmnIi"
      },
      "source": [
        "# Function"
      ]
    },
    {
      "cell_type": "markdown",
      "metadata": {
        "id": "2sYLgBwLmo66"
      },
      "source": [
        "Function (fungsi) adalah sebuah blok statement yang hanya akan dijalankan saat ia dipanggil.\n",
        "Fungsi len() untuk mengukur jumlah elemen dalam sebuah list dan fungsi print() untuk menampilkan pesan pada layar konsol merupakan contoh dari bentuk fungsi yang telah disediakan oleh bahasa pemrograman Python atau dengan kata lain built-in functions.\n",
        "\n",
        "Selain fungsi yang telah disediakan oleh Python, Python mengizinkan untuk mendeklarasikan fungsi dalam kode yang dituliskan yang dikenal dengan user defined function."
      ]
    },
    {
      "cell_type": "code",
      "metadata": {
        "id": "ggRQtNsBnXBC"
      },
      "source": [
        "def nama_fungsi(argument):\n",
        "  statement_1\n",
        "  ...\n",
        "  statement_n\n",
        "  return returned_value"
      ],
      "execution_count": null,
      "outputs": []
    },
    {
      "cell_type": "markdown",
      "metadata": {
        "id": "RBAEFr1wnfbo"
      },
      "source": [
        "* **nama_fungsi** adalah nama untuk fungsi yang Anda definisikan, memiliki aturan seperti penamaan variable\n",
        "* **argument** adalah variabel masukan ke fungsi, bisa tanpa variabel, satu variabel atau lebih\n",
        "* **statement_1 ... statement_n** adalah algoritma yang telah Anda transfer dalam bahasa Python yang merupakan inti dari fungsi yang Anda definisikan. Seluruh statement adalah menjorok (indent) ke dalam seperti yang pernah Anda pelajari pada conditioning dan looping\n",
        "* **return_value** adalah output dari fungsi Anda, bisa tanpa variabel, satu variabel atau lebih.\n"
      ]
    },
    {
      "cell_type": "markdown",
      "metadata": {
        "id": "TKMbeP7KoZs0"
      },
      "source": [
        "## Argumen dan Parameter"
      ]
    },
    {
      "cell_type": "markdown",
      "metadata": {
        "id": "G1msZLAaocxA"
      },
      "source": [
        "* **Parameter** adalah variabel yang digunakan dalam deklarasi fungsi\n",
        "* **Argumen** adalah nilai yang diberikan saat pemanggilan fungsi"
      ]
    },
    {
      "cell_type": "code",
      "metadata": {
        "colab": {
          "base_uri": "https://localhost:8080/"
        },
        "id": "u-1Vg26PoopF",
        "outputId": "e7f73be1-94b7-438d-ba73-f44cca0806a2"
      },
      "source": [
        "def print_nama(nama): # 'nama' adalah parameter\n",
        "    print(nama)\n",
        "\n",
        "print_nama('Budi') # 'Budi' adalah argumen"
      ],
      "execution_count": null,
      "outputs": [
        {
          "output_type": "stream",
          "name": "stdout",
          "text": [
            "Budi\n"
          ]
        }
      ]
    },
    {
      "cell_type": "markdown",
      "metadata": {
        "id": "vZeHTsSUpAnn"
      },
      "source": [
        "## Argumen posisi dan kata kunci"
      ]
    },
    {
      "cell_type": "markdown",
      "metadata": {
        "id": "fBI3gBX6pEDn"
      },
      "source": [
        "Kita bisa menyatakan argumen sebagai argumen posisi atau kata kunci. Beberapa ,anfaat argumen kata kunci dapat berupa:\n",
        "* Kita dapat menyebut argumen dengan nama mereka untuk memperjelas apa yang mereka wakili\n",
        "* Kita dapat mengatur ulang argumen dengan cara yang membuatnya paling mudah dibaca"
      ]
    },
    {
      "cell_type": "code",
      "metadata": {
        "colab": {
          "base_uri": "https://localhost:8080/"
        },
        "id": "hvmIwmBdcKgc",
        "outputId": "4363a3c2-a6a5-4343-b271-de7277b6d8a6"
      },
      "source": [
        "def angka(a,b,c):\n",
        "  print(a,b,c)\n",
        "\n",
        "# argumen posisi\n",
        "# argumen berdasarkan posisinya\n",
        "angka(1,2,3)\n",
        "\n",
        "# argumen berdasarkan kata kuncinya\n",
        "angka(a=1,b=2,c=3)\n",
        "angka(c=3,b=2,a=1)\n",
        "# catatan: jika sudah diberi kunci maka urutan tidak menjadi penting\n",
        "\n",
        "# campuran antara argumen posisi dan argumen kata kunci\n",
        "angka(1,b=2,c=3)\n",
        "\n",
        "# ini tidak diijinkan:\n",
        "# foo(1,b=2,3) -> argumen posisional setelah argumen kunci\n",
        "# foo(1,b=2,a=3) -> terdapat dua nilai untuk argumen kunci 'a'"
      ],
      "execution_count": 2,
      "outputs": [
        {
          "output_type": "stream",
          "name": "stdout",
          "text": [
            "1 2 3\n",
            "1 2 3\n",
            "1 2 3\n",
            "1 2 3\n"
          ]
        }
      ]
    },
    {
      "cell_type": "markdown",
      "metadata": {
        "id": "sZ9d81PbdLdQ"
      },
      "source": [
        "## Argumen Default"
      ]
    },
    {
      "cell_type": "markdown",
      "metadata": {
        "id": "CNhvRv0rdNks"
      },
      "source": [
        "Fungsi dapat memiliki argumen default dengan nilai yang telah ditentukan sebelumnya. Argumen ini dapat ditinggalkan dan nilai default kemudia diteruskan ke fungsi, atau argumen dapat dirubah dengan nilai yang berbeda. Perhatikan bahwa arhumen default harus ditentukan sebagai **parameter terakhir** dalam suatu fungsi."
      ]
    },
    {
      "cell_type": "code",
      "metadata": {
        "colab": {
          "base_uri": "https://localhost:8080/"
        },
        "id": "xcQj8Yf3dyBR",
        "outputId": "4b378855-8395-46cd-dfb3-d8ad764728b8"
      },
      "source": [
        "# argumen default\n",
        "def angka2(a,b,c,d=4):\n",
        "  print(a,b,c,d)\n",
        "\n",
        "angka2(1,2,3,4)\n",
        "angka2(1,b=2,c=3,d=100)\n",
        "\n",
        "# argumen default harus diletakkan terakhir"
      ],
      "execution_count": 3,
      "outputs": [
        {
          "output_type": "stream",
          "name": "stdout",
          "text": [
            "1 2 3 4\n",
            "1 2 3 100\n"
          ]
        }
      ]
    },
    {
      "cell_type": "markdown",
      "metadata": {
        "id": "pUyIelSqeHOS"
      },
      "source": [
        "## Praktik Membuat Fungsi"
      ]
    },
    {
      "cell_type": "code",
      "metadata": {
        "colab": {
          "base_uri": "https://localhost:8080/"
        },
        "id": "0Uh7kuGweKLj",
        "outputId": "9aeb4157-979d-4b4d-8505-52c54597bda7"
      },
      "source": [
        "x=1\n",
        "y=2\n",
        "x*y"
      ],
      "execution_count": 4,
      "outputs": [
        {
          "output_type": "execute_result",
          "data": {
            "text/plain": [
              "2"
            ]
          },
          "metadata": {},
          "execution_count": 4
        }
      ]
    },
    {
      "cell_type": "code",
      "metadata": {
        "colab": {
          "base_uri": "https://localhost:8080/"
        },
        "id": "BoopBC3neOIy",
        "outputId": "9d6e7685-d0ab-4a6c-c859-d15f7ba70f98"
      },
      "source": [
        "def penjumlahan(x,y):   # input\n",
        "  a=x+y                 # proses\n",
        "  return a              # output\n",
        "penjumlahan(1,2)        # menggunakan fungsi"
      ],
      "execution_count": 5,
      "outputs": [
        {
          "output_type": "execute_result",
          "data": {
            "text/plain": [
              "3"
            ]
          },
          "metadata": {},
          "execution_count": 5
        }
      ]
    },
    {
      "cell_type": "markdown",
      "metadata": {
        "id": "hJguvl3PekMe"
      },
      "source": [
        "Penjumlahan yang memungkinkan untuk tiga bilangan"
      ]
    },
    {
      "cell_type": "code",
      "metadata": {
        "colab": {
          "base_uri": "https://localhost:8080/"
        },
        "id": "t9p3fdKLesN4",
        "outputId": "9d91b6d8-f2a1-4f3e-bfcd-79e65d100b9c"
      },
      "source": [
        "def penjumlahan(x,y,z=None):\n",
        "  if (z==None):\n",
        "    return x+y\n",
        "  else:\n",
        "    return x+y+z\n",
        "\n",
        "print(penjumlahan(1,2))\n",
        "print(penjumlahan(1,2,3))"
      ],
      "execution_count": 6,
      "outputs": [
        {
          "output_type": "stream",
          "name": "stdout",
          "text": [
            "3\n",
            "6\n"
          ]
        }
      ]
    },
    {
      "cell_type": "markdown",
      "metadata": {
        "id": "trXrgz0Ne-aY"
      },
      "source": [
        "Menyimpan hasil fungsi dalam variabel"
      ]
    },
    {
      "cell_type": "code",
      "metadata": {
        "colab": {
          "base_uri": "https://localhost:8080/"
        },
        "id": "bK-FU-A1fBU_",
        "outputId": "295f19e8-37a3-4530-bd64-cc466c27a728"
      },
      "source": [
        "def penjumlahan(x,y):\n",
        "  return x+y\n",
        "\n",
        "a=penjumlahan\n",
        "a(1,2)"
      ],
      "execution_count": 7,
      "outputs": [
        {
          "output_type": "execute_result",
          "data": {
            "text/plain": [
              "3"
            ]
          },
          "metadata": {},
          "execution_count": 7
        }
      ]
    },
    {
      "cell_type": "markdown",
      "metadata": {
        "id": "GB9XYPIVfLz1"
      },
      "source": [
        "## Latihan 1"
      ]
    },
    {
      "cell_type": "markdown",
      "metadata": {
        "id": "TFeiyEEMfOTk"
      },
      "source": [
        "Buatlah Function pythagoras dengan input argumennya panjang tinggi dan alas segitiga untuk menghasilkan output nilai panjang sisi miring."
      ]
    },
    {
      "cell_type": "code",
      "metadata": {
        "colab": {
          "base_uri": "https://localhost:8080/"
        },
        "id": "MTtBORlZfZUk",
        "outputId": "0bc96d3e-8c43-40ec-a876-7b8a17741741"
      },
      "source": [
        "# Ketikkan codemu\n",
        "from math import sqrt\n",
        "t=int(input(\"Masukkan tinggi segitiga: \"))\n",
        "a=int(input(\"Masukkan alas segitiga: \"))\n",
        "sisi_miring=sqrt(t**2+a**2)\n",
        "print(\"Panjang sisi miring: \",sisi_miring)"
      ],
      "execution_count": 17,
      "outputs": [
        {
          "output_type": "stream",
          "name": "stdout",
          "text": [
            "Masukkan tinggi segitiga: 24\n",
            "Masukkan alas segitiga: 7\n",
            "Panjang sisi miring:  25.0\n"
          ]
        }
      ]
    },
    {
      "cell_type": "markdown",
      "metadata": {
        "id": "MPZsFysMfbh_"
      },
      "source": [
        "## Latihan 2"
      ]
    },
    {
      "cell_type": "markdown",
      "metadata": {
        "id": "E3kDm3uPfdBI"
      },
      "source": [
        "Buatlah Function luas permukaan balok dengan input argumennya panjang, lebar, dan tinggi dari balok ntuk menghasilkan output nilai luas permukaan balok tersebut."
      ]
    },
    {
      "cell_type": "code",
      "metadata": {
        "colab": {
          "base_uri": "https://localhost:8080/"
        },
        "id": "0zJK4dtjgAM0",
        "outputId": "1b9d5f4c-a08a-422a-c912-0747bcd3c50d"
      },
      "source": [
        "# Ketikkan codemu\n",
        "p=int(input(\"Masukkan panjang balok: \"))\n",
        "l=int(input(\"Masukkan lebar balok: \"))\n",
        "t=int(input(\"Masukkan tinggi balok: \"))\n",
        "L=2*(p*l+p*t+l*t)\n",
        "print(\"Luas permukaan balok: \",L)"
      ],
      "execution_count": 18,
      "outputs": [
        {
          "output_type": "stream",
          "name": "stdout",
          "text": [
            "Masukkan panjang balok: 1\n",
            "Masukkan lebar balok: 2\n",
            "Masukkan tinggi balok: 3\n",
            "Luas permukaan balok:  22\n"
          ]
        }
      ]
    }
  ]
}