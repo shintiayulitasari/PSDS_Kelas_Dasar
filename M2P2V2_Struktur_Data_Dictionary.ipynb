{
  "nbformat": 4,
  "nbformat_minor": 0,
  "metadata": {
    "colab": {
      "name": "M2P2V2_Struktur_Data_Dictionary",
      "provenance": []
    },
    "kernelspec": {
      "name": "python3",
      "display_name": "Python 3"
    },
    "language_info": {
      "name": "python"
    }
  },
  "cells": [
    {
      "cell_type": "markdown",
      "metadata": {
        "id": "kg8V3OS2GELC"
      },
      "source": [
        "#Dictionary"
      ]
    },
    {
      "cell_type": "markdown",
      "metadata": {
        "id": "hcyK1XALGGTs"
      },
      "source": [
        "Dictionary pada Python adalah kumpulan pasangan kunci-nilai (*pair of key-value*) yang bersifat tidak berurutan. Dictionary dapat digunakan untuk menyimpan data kecil hingga besar. Untuk mengakses datanya, kita harus mengetahui kuncinya (*key*). Pada Python, dictionary didefinisikan dengan kurawal dan tambahan definisi berikut:\n",
        "* Setiap elemen pair key-value dipisahkan dengan koma (,).\n",
        "* Key dan Value dipisahkan dengan titik dua (:).\n",
        "* Key dan Value dapat berupa tipe variabel/objek apapun."
      ]
    },
    {
      "cell_type": "code",
      "metadata": {
        "colab": {
          "base_uri": "https://localhost:8080/"
        },
        "id": "XuRckEiMJ-U2",
        "outputId": "37040e70-6c9b-4e43-8192-e517689530be"
      },
      "source": [
        "L1=[1, \"dua\", True, 2+3j, 2+3j]\n",
        "print(L1)\n",
        "print(type(L1))"
      ],
      "execution_count": null,
      "outputs": [
        {
          "output_type": "stream",
          "name": "stdout",
          "text": [
            "[1, 'dua', True, (2+3j), (2+3j)]\n",
            "<class 'list'>\n"
          ]
        }
      ]
    },
    {
      "cell_type": "code",
      "metadata": {
        "colab": {
          "base_uri": "https://localhost:8080/"
        },
        "id": "jUXERU_qK-ea",
        "outputId": "e9fe36b7-5db8-4042-d558-902d43bfa937"
      },
      "source": [
        "#Contoh Dictionary\n",
        "D1 = {1:'value','key':2}\n",
        "print(D1)"
      ],
      "execution_count": null,
      "outputs": [
        {
          "output_type": "stream",
          "name": "stdout",
          "text": [
            "{1: 'value', 'key': 2}\n"
          ]
        }
      ]
    },
    {
      "cell_type": "markdown",
      "metadata": {
        "id": "6NIxXSgSLQgA"
      },
      "source": [
        "## Latihan 1"
      ]
    },
    {
      "cell_type": "code",
      "metadata": {
        "id": "IYE39IO3LPXV",
        "colab": {
          "base_uri": "https://localhost:8080/"
        },
        "outputId": "29244347-64ce-49d0-acf1-10b506144e5e"
      },
      "source": [
        "# Buatlah struktur data dictionary kalian sendiri\n",
        "Ds = {'Nama': 'Shintia Yulita Sari', 1900015057: 'NIM', 'Prodi': 'Matematika', 2019: 'Agkatan' }\n",
        "print(Ds)"
      ],
      "execution_count": 2,
      "outputs": [
        {
          "output_type": "stream",
          "name": "stdout",
          "text": [
            "{'Nama': 'Shintia Yulita Sari', 1900015057: 'NIM', 'Prodi': 'Matematika', 2019: 'Agkatan'}\n"
          ]
        }
      ]
    },
    {
      "cell_type": "code",
      "metadata": {
        "colab": {
          "base_uri": "https://localhost:8080/"
        },
        "id": "QyNDAZpFL6nU",
        "outputId": "56794529-32ab-4add-fd87-8c855473cc15"
      },
      "source": [
        "L1[0]"
      ],
      "execution_count": null,
      "outputs": [
        {
          "output_type": "execute_result",
          "data": {
            "text/plain": [
              "1"
            ]
          },
          "metadata": {},
          "execution_count": 7
        }
      ]
    },
    {
      "cell_type": "code",
      "metadata": {
        "colab": {
          "base_uri": "https://localhost:8080/"
        },
        "id": "Y2N5SOS4L8rV",
        "outputId": "d38f9eee-1608-4aed-ace2-2cee93d162ee"
      },
      "source": [
        "D1['key']"
      ],
      "execution_count": null,
      "outputs": [
        {
          "output_type": "execute_result",
          "data": {
            "text/plain": [
              "2"
            ]
          },
          "metadata": {},
          "execution_count": 8
        }
      ]
    },
    {
      "cell_type": "code",
      "metadata": {
        "colab": {
          "base_uri": "https://localhost:8080/"
        },
        "id": "pZKjXOoIMpGe",
        "outputId": "32848a6f-7a4e-4e78-f757-e37533595711"
      },
      "source": [
        "# Memanggil elemen berdasarkan key\n",
        "print(\"D1['key']= \", D1['key']);"
      ],
      "execution_count": null,
      "outputs": [
        {
          "output_type": "stream",
          "name": "stdout",
          "text": [
            "D1['key']=  2\n"
          ]
        }
      ]
    },
    {
      "cell_type": "markdown",
      "metadata": {
        "id": "iWHv1ErvMA8f"
      },
      "source": [
        "Dictionary bukan termasuk dalam implementasi urutan (sequences), sehingga tidak bisa dipanggil dengan urutan indeks. Misalnya dalam contoh berikut dengan indeks 2, tetapi menghasilkan error (KeyError) karena tidak ada kunci (key) 2:"
      ]
    },
    {
      "cell_type": "code",
      "metadata": {
        "colab": {
          "base_uri": "https://localhost:8080/",
          "height": 184
        },
        "id": "CPrOQL9RMWh4",
        "outputId": "7a153676-bb27-4ffe-9978-9ce05c92ccb3"
      },
      "source": [
        "# Nyobain error\n",
        "print(\"D1[2]= \",D1['2']);"
      ],
      "execution_count": null,
      "outputs": [
        {
          "output_type": "error",
          "ename": "KeyError",
          "evalue": "ignored",
          "traceback": [
            "\u001b[0;31m---------------------------------------------------------------------------\u001b[0m",
            "\u001b[0;31mKeyError\u001b[0m                                  Traceback (most recent call last)",
            "\u001b[0;32m<ipython-input-12-c8d0aca78f21>\u001b[0m in \u001b[0;36m<module>\u001b[0;34m()\u001b[0m\n\u001b[1;32m      1\u001b[0m \u001b[0;31m# Nyobain error\u001b[0m\u001b[0;34m\u001b[0m\u001b[0;34m\u001b[0m\u001b[0;34m\u001b[0m\u001b[0m\n\u001b[0;32m----> 2\u001b[0;31m \u001b[0mprint\u001b[0m\u001b[0;34m(\u001b[0m\u001b[0;34m\"D1[2]= \"\u001b[0m\u001b[0;34m,\u001b[0m\u001b[0mD1\u001b[0m\u001b[0;34m[\u001b[0m\u001b[0;34m'2'\u001b[0m\u001b[0;34m]\u001b[0m\u001b[0;34m)\u001b[0m\u001b[0;34m;\u001b[0m\u001b[0;34m\u001b[0m\u001b[0;34m\u001b[0m\u001b[0m\n\u001b[0m",
            "\u001b[0;31mKeyError\u001b[0m: '2'"
          ]
        }
      ]
    },
    {
      "cell_type": "markdown",
      "metadata": {
        "id": "WUQ6CrBiM4j4"
      },
      "source": [
        "## Latihan 2"
      ]
    },
    {
      "cell_type": "code",
      "metadata": {
        "id": "pQ_inx78M6Bd",
        "colab": {
          "base_uri": "https://localhost:8080/"
        },
        "outputId": "3c4a4758-4dca-4c8e-bfa8-a72f8a6072e1"
      },
      "source": [
        "# Panggil salah satu key dan value pada dictionary yang kalian buat\n",
        "print(Ds['Nama'])\n",
        "print(\"Ds[2019]= \", Ds[2019]);"
      ],
      "execution_count": 8,
      "outputs": [
        {
          "output_type": "stream",
          "name": "stdout",
          "text": [
            "Shintia Yulita Sari\n",
            "Ds[2019]=  Agkatan\n"
          ]
        }
      ]
    }
  ]
}