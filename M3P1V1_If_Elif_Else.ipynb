{
  "nbformat": 4,
  "nbformat_minor": 0,
  "metadata": {
    "colab": {
      "name": "M3P1V1_If_Elif_Else ",
      "provenance": [],
      "authorship_tag": "ABX9TyO13iK0NiiciqpsgJjEAqyP",
      "include_colab_link": true
    },
    "kernelspec": {
      "name": "python3",
      "display_name": "Python 3"
    },
    "language_info": {
      "name": "python"
    }
  },
  "cells": [
    {
      "cell_type": "markdown",
      "metadata": {
        "id": "view-in-github",
        "colab_type": "text"
      },
      "source": [
        "<a href=\"https://colab.research.google.com/github/shintiayulitasari/PSDS_Kelas_Dasar/blob/main/M3P1V1_If_Elif_Else.ipynb\" target=\"_parent\"><img src=\"https://colab.research.google.com/assets/colab-badge.svg\" alt=\"Open In Colab\"/></a>"
      ]
    },
    {
      "cell_type": "markdown",
      "metadata": {
        "id": "K2GzNH5beeNq"
      },
      "source": [
        "# Percabangan/ Struktur Pemilihan"
      ]
    },
    {
      "cell_type": "markdown",
      "metadata": {
        "id": "FLaAo8zlexTX"
      },
      "source": [
        "Pada bagian ini, kamu akan membuat  keputusan pada bahasa pemrograman Python menggunakan struktur percabangan atau juga sering disebut IF ELSE Statement. Pengembalian keputusan dibutuhkan ketika kamu akan mengeksekusi suatu kode jika sebuah kondisi tertentu dipenuhi.\n",
        "\n",
        "Statement `if..elif...else ` digunakan pada bahasa Python untuk \n",
        "pengambilan keputusan."
      ]
    },
    {
      "cell_type": "markdown",
      "metadata": {
        "id": "cLe7DNxlfF-h"
      },
      "source": [
        "## IF Statements"
      ]
    },
    {
      "cell_type": "markdown",
      "metadata": {
        "id": "19hkBBMqfIpJ"
      },
      "source": [
        "**Python IF Statement Syntax**"
      ]
    },
    {
      "cell_type": "code",
      "metadata": {
        "id": "-3xRH-50f1hi"
      },
      "source": [
        "if text expression:\n",
        "  statement(s)"
      ],
      "execution_count": null,
      "outputs": []
    },
    {
      "cell_type": "markdown",
      "metadata": {
        "id": "TAVQGBDQfrDg"
      },
      "source": [
        "**Python IF Statement Flowchart**"
      ]
    },
    {
      "cell_type": "code",
      "metadata": {
        "id": "V8JeQ3Zjo7f3"
      },
      "source": [
        "if test exspression:\n",
        "  statement(s)"
      ],
      "execution_count": null,
      "outputs": []
    },
    {
      "cell_type": "markdown",
      "metadata": {
        "id": "nEZ51STzpDY3"
      },
      "source": [
        "**Python IF Statement Flowchart**"
      ]
    },
    {
      "cell_type": "markdown",
      "metadata": {
        "id": "pmFph-YBhFMT"
      },
      "source": [
        "![Python_if_statement.jpg](data:image/jpeg;base64,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)"
      ]
    },
    {
      "cell_type": "markdown",
      "metadata": {
        "id": "X52_lDr-pKDm"
      },
      "source": [
        "**Example: Python IF Statement**"
      ]
    },
    {
      "cell_type": "code",
      "metadata": {
        "id": "wEijlFMugv8x",
        "colab": {
          "base_uri": "https://localhost:8080/"
        },
        "outputId": "1e086f3e-b622-41f6-acba-49e079ee5f03"
      },
      "source": [
        "# Jika angka adalah bilangan positif maka print \"adalah bilangan positif\"\n",
        "\n",
        "angka=3\n",
        "if angka > 0:\n",
        "  print(angka, \"adalah bilangan positif.\")\n",
        "print(\"Pernyataan ini selalu ditampilkan.\")\n",
        "\n",
        "angka=-1\n",
        "if angka > 0:\n",
        "  print(angka, \"adalah bilangan positif.\")\n",
        "print(\"Pernyataan ini juga selalu ditampilkan.\")"
      ],
      "execution_count": 1,
      "outputs": [
        {
          "output_type": "stream",
          "name": "stdout",
          "text": [
            "3 adalah bilangan positif.\n",
            "Pernyataan ini selalu ditampilkan.\n",
            "Pernyataan ini juga selalu ditampilkan.\n"
          ]
        }
      ]
    },
    {
      "cell_type": "markdown",
      "metadata": {
        "id": "FSv2kOhFqE-L"
      },
      "source": [
        "# IF ELse Statements"
      ]
    },
    {
      "cell_type": "markdown",
      "metadata": {
        "id": "4mveqUBXqIjS"
      },
      "source": [
        "**Python IF ELSE Statement Syntax**"
      ]
    },
    {
      "cell_type": "code",
      "metadata": {
        "id": "6E2AYLDlqMlH"
      },
      "source": [
        "if test expression:\n",
        "  Body of if\n",
        "else:\n",
        "  Body of else"
      ],
      "execution_count": null,
      "outputs": []
    },
    {
      "cell_type": "markdown",
      "metadata": {
        "id": "lEEMvF72rsGF"
      },
      "source": [
        "**Python IF ELSE Statement Flowchart**"
      ]
    },
    {
      "cell_type": "markdown",
      "metadata": {
        "id": "L2_FS7niryAH"
      },
      "source": [
        "![cb023095206e9938b0a3b18b1895469e.jpg](data:image/jpeg;base64,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)"
      ]
    },
    {
      "cell_type": "markdown",
      "metadata": {
        "id": "7Ixw24KQr5bV"
      },
      "source": [
        "**Example: Python IF ELSE Statement**"
      ]
    },
    {
      "cell_type": "code",
      "metadata": {
        "id": "bRdUPa7lr9UT",
        "colab": {
          "base_uri": "https://localhost:8080/"
        },
        "outputId": "3f503e88-7187-4405-ad27-09cd180f8c6b"
      },
      "source": [
        "# Program disusun untuk mengecek apakah angka tersebut kurang dari 0 atau tidak\n",
        "# dan menampilkan tulisan yang sesuai\n",
        "\n",
        "angka=3\n",
        "if angka>=0:\n",
        "  print(\"Bilangan lebih dari satu samadengan 0\")\n",
        "else:\n",
        "  print(\"Bilangan kurang dari 0\")"
      ],
      "execution_count": 2,
      "outputs": [
        {
          "output_type": "stream",
          "name": "stdout",
          "text": [
            "Bilangan lebih dari satu samadengan 0\n"
          ]
        }
      ]
    },
    {
      "cell_type": "code",
      "metadata": {
        "id": "YuEhzCqWznHT",
        "colab": {
          "base_uri": "https://localhost:8080/"
        },
        "outputId": "495967cf-1940-44e3-c3f8-3f82a7ba344c"
      },
      "source": [
        "# Program disusun untuk mengecek apakah dua buah angka sama atau tidak\n",
        "# dan menampilkan tulisan yang sesuai\n",
        "\n",
        "a=5\n",
        "b=5\n",
        "if a==b:\n",
        "  print(\"a dan b bernilai sama\")\n",
        "else:\n",
        "  print(\"a dan b bernilai berbeda\")\n",
        "  print(\"Belajar If Else\")"
      ],
      "execution_count": 3,
      "outputs": [
        {
          "output_type": "stream",
          "name": "stdout",
          "text": [
            "a dan b bernilai sama\n"
          ]
        }
      ]
    },
    {
      "cell_type": "code",
      "metadata": {
        "id": "eHsVYkQL0K40",
        "colab": {
          "base_uri": "https://localhost:8080/"
        },
        "outputId": "23d5e128-106f-4b20-a8f1-8859e1a566b1"
      },
      "source": [
        "# Program disusun untuk mengecek apakah perbandingan dua buah angka\n",
        "# dan menampilkan tulisan yang sesuai\n",
        "\n",
        "# membaca dua angka\n",
        "bil1=int(input(\"Masukkan bilangan pertama: \"))\n",
        "bil2=int(input(\"Masukkan bilangan kedua: \"))\n",
        "\n",
        "# memilih bilangan yang lebih besar\n",
        "if bil1 > bil2:\n",
        "  bil_lebih_besar=bil1\n",
        "else:\n",
        "  bil_lebih_besar=bil2\n",
        "\n",
        "# menampiampilkan hasil\n",
        "print(\"Bilangan yang lebih besar adalah: \", bil_lebih_besar)"
      ],
      "execution_count": 4,
      "outputs": [
        {
          "output_type": "stream",
          "name": "stdout",
          "text": [
            "Masukkan bilangan pertama: 2\n",
            "Masukkan bilangan kedua: -88\n",
            "Bilangan yang lebih besar adalah:  2\n"
          ]
        }
      ]
    },
    {
      "cell_type": "markdown",
      "metadata": {
        "id": "fjOfEIfN018r"
      },
      "source": [
        "## IF ELIF ELSE Statement"
      ]
    },
    {
      "cell_type": "markdown",
      "metadata": {
        "id": "N-XhJKtd06Ob"
      },
      "source": [
        "**Python IF ELIF ELSE Statement Syntax**"
      ]
    },
    {
      "cell_type": "code",
      "metadata": {
        "id": "g1_2-F--1AWf"
      },
      "source": [
        "if test expression:\n",
        "  Body of if\n",
        "elif test expression:\n",
        "  Body of elif\n",
        "else:\n",
        "  Body of else"
      ],
      "execution_count": null,
      "outputs": []
    },
    {
      "cell_type": "markdown",
      "metadata": {
        "id": "TtKyft7a1NpF"
      },
      "source": [
        "**Python IF ELIF ELSE Statement Flow Chart**"
      ]
    },
    {
      "cell_type": "markdown",
      "metadata": {
        "id": "mGhUGfKq1sOI"
      },
      "source": [
        "![Python_if_elif_else_statement.jpg](data:image/jpeg;base64,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)"
      ]
    },
    {
      "cell_type": "markdown",
      "metadata": {
        "id": "LkG0NeCn1xgR"
      },
      "source": [
        "**Example: Python IF ELIF ELSE Statement**"
      ]
    },
    {
      "cell_type": "code",
      "metadata": {
        "id": "zFilReU-14EA",
        "colab": {
          "base_uri": "https://localhost:8080/"
        },
        "outputId": "52e06e6e-520a-4e4d-b01b-ec001ad970e9"
      },
      "source": [
        "# Program disusun untuk mengecek apakah angka merupakan bilangan positif, negatif atau nol\n",
        "# dan menampilkan tulisan yang sesuai\n",
        "\n",
        "angka=3.4\n",
        "if angka > 0:\n",
        "  print(\"Bilangan Positif\")\n",
        "elif num == 0:\n",
        "  print(\"Nol\")\n",
        "else:\n",
        "  print(\"Bilangan Negatif\")"
      ],
      "execution_count": 5,
      "outputs": [
        {
          "output_type": "stream",
          "name": "stdout",
          "text": [
            "Bilangan Positif\n"
          ]
        }
      ]
    },
    {
      "cell_type": "code",
      "metadata": {
        "id": "KLYRGq0827cI",
        "colab": {
          "base_uri": "https://localhost:8080/"
        },
        "outputId": "5b99ca1c-8f83-48cb-d009-e9667a23ef30"
      },
      "source": [
        "# Statement if\n",
        "\n",
        "x=4\n",
        "if x%2==0: # jika x dibagi 2 sisanya samadengan 0\n",
        "  print(\"x habis dibagi dua\")\n",
        "\n",
        "# Statement if..elif...else\n",
        "x=7\n",
        "if x%2==0: # jika x dibagi 2 sisanya samadengan 0\n",
        "  print(\"x habis dibagi dua\")\n",
        "elif x%3==0: # jika x dibagi 3 sisanya samadengan 0\n",
        "  print(\"x habis dibagi tiga\")\n",
        "elif x%5==0: # jika x dibagi 5 sisanya samadengan 0\n",
        "  print(\"x  habis dibagi lima\")\n",
        "else:\n",
        "  print(\"x tidak habis dibagi dua, tiga ataupun lima\")"
      ],
      "execution_count": 6,
      "outputs": [
        {
          "output_type": "stream",
          "name": "stdout",
          "text": [
            "x habis dibagi dua\n",
            "x tidak habis dibagi dua, tiga ataupun lima\n"
          ]
        }
      ]
    },
    {
      "cell_type": "markdown",
      "metadata": {
        "id": "E1ms1fFp4aXp"
      },
      "source": [
        "## Python Nested IF statements"
      ]
    },
    {
      "cell_type": "markdown",
      "metadata": {
        "id": "Emmm-xp14eiQ"
      },
      "source": [
        "**Example: Python NESTED IF statement**"
      ]
    },
    {
      "cell_type": "code",
      "metadata": {
        "id": "Xpvgksbe4k_O",
        "colab": {
          "base_uri": "https://localhost:8080/"
        },
        "outputId": "0554ff72-fb59-4c17-bc96-91c6d7fc0467"
      },
      "source": [
        "# Program disusun untuk mengecek apakah angka merupakan bilangan positif, negatif, atau nol\n",
        "# dan menampilkan tulisan yang sesuai\n",
        "\n",
        "angka=float(input(\"Masukkan angka: \"))\n",
        "if angka >= 0:\n",
        "  if angka==0:\n",
        "    print(\"Nol\")\n",
        "  else :\n",
        "    print(\"Bilangan positif\")\n",
        "else:\n",
        "  print(\"Bilangan Negatif\")"
      ],
      "execution_count": 7,
      "outputs": [
        {
          "output_type": "stream",
          "name": "stdout",
          "text": [
            "Masukkan angka: 88\n",
            "Bilangan positif\n"
          ]
        }
      ]
    },
    {
      "cell_type": "markdown",
      "metadata": {
        "id": "ORL9zQH56PPo"
      },
      "source": [
        "## Latihan"
      ]
    },
    {
      "cell_type": "markdown",
      "metadata": {
        "id": "ZVmKxjFC6Riu"
      },
      "source": [
        "Buatlah sebuah fungsi \"Mahal_Diskon\" dengan ketentuan:\n",
        "* Input beberapa data harga produk dengan tipe data numerik Tunggal\n",
        "* Kategori Input adalah \"Murah\" dan \"Mahal\", kemudian didiskon ada 3 kategori \"10%, 20%, dan 40%\"\n",
        "* Output pertama sebuah teks/string yang menyatakan \"Mahal\" atau \"Murah\" dan keterangan \"Kamu dapat diskon...\"\n",
        "* Output kedua adalah harga yang perlu dibayar"
      ]
    },
    {
      "cell_type": "code",
      "metadata": {
        "id": "uHSfBY3T618x",
        "colab": {
          "base_uri": "https://localhost:8080/"
        },
        "outputId": "35cd6120-4519-45e0-902b-a811a0e81968"
      },
      "source": [
        "# Ketikan Codingan anda\n",
        "\n",
        "Harga=int(input(\"Masukkan harga: \"))\n",
        "if Harga >= 250000:\n",
        "  if Harga<=300000:\n",
        "    total=Harga*0.9\n",
        "    print(\"Harga Mahal dan kamu mendapatkan diskon 10%.\")\n",
        "    print(\"Total harga yang harus dibayar:\",total)\n",
        "  elif 300000<Harga<=400000:\n",
        "    total=Harga*0.8\n",
        "    print(\"Harga Mahal dan kamu mendapatkan diskon 20%.\")\n",
        "    print(\"Total harga yang harus dibayar:\",total)\n",
        "  else:\n",
        "    total=Harga*0.6\n",
        "    print(\"Harga Mahal dan kamu mendapatkan diskon 40%.\")\n",
        "    print(\"Total harga yang harus dibayar:\",total)\n",
        "else:\n",
        "  print(\"Harga Murah dan kamu tidak mendapatkan diskon.\")\n",
        "  print(\"Total harga yang harus dibayar:\",Harga)"
      ],
      "execution_count": 12,
      "outputs": [
        {
          "output_type": "stream",
          "name": "stdout",
          "text": [
            "Masukkan harga: 250010\n",
            "Harga Mahal dan kamu mendapatkan diskon 10%.\n",
            "Total harga yang harus dibayar: 225009.0\n"
          ]
        }
      ]
    }
  ]
}